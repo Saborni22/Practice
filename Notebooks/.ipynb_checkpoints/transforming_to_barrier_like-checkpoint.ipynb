{
 "metadata": {
  "name": "",
  "signature": "sha256:a45111fed3dd6a1ea5e1e9a9096eda52dc462821764c93fe97ea9cbc8616de9c"
 },
 "nbformat": 3,
 "nbformat_minor": 0,
 "worksheets": [
  {
   "cells": [
    {
     "cell_type": "markdown",
     "metadata": {},
     "source": [
      "#### Transforming the problem into the barrier option type. "
     ]
    },
    {
     "cell_type": "code",
     "collapsed": false,
     "input": [
      "# Calling libraries:\n",
      "%matplotlib inline  \n",
      "from __future__ import division\n",
      "import numpy as np\n",
      "import time\n",
      "from scipy.stats import norm, uniform\n",
      "from pylab import plot, show, legend\n",
      "import matplotlib.pyplot as plt\n",
      "plt.rcParams['figure.figsize'] = (10.0, 3.0) #for larger plots\n",
      "int = np.vectorize(int)\n",
      "\n",
      "# Initialization:\n",
      "m, k, M = 24, 30, 10**5\n",
      "gamma_L, gamma_G = 100, 200\n",
      "S_0, mu, sigma = np.log(100), 0, 0.08\n",
      "\n",
      "# Payoff function:\n",
      "def f(x):\n",
      "    s = np.exp(x)\n",
      "    return (2*(s-110)+20)*(s>110) + (2*(80-s)+20)*(s<90) - 20*(s<=110)*(s>=90)  \n",
      "def f_positive(x):\n",
      "    return f(x)*(f(x)>0)\n",
      "def f_negative(x):\n",
      "    return -f(x)*(f(x)<0)\n",
      "def payoff_function(x):\n",
      "    return 100 + f(x)\n",
      "np.vectorize(f)\n",
      "np.vectorize(f_positive)\n",
      "np.vectorize(f_negative)\n",
      "np.vectorize(payoff_function)"
     ],
     "language": "python",
     "metadata": {},
     "outputs": [
      {
       "metadata": {},
       "output_type": "pyout",
       "prompt_number": 17,
       "text": [
        "<numpy.lib.function_base.vectorize at 0x4134748>"
       ]
      }
     ],
     "prompt_number": 17
    },
    {
     "cell_type": "code",
     "collapsed": false,
     "input": [
      "# Systematic resampling function: \n",
      "def systematic_resampling(population, weights, index_resampled):\n",
      "    weights /= np.sum(weights)\n",
      "    population_length = len(population)\n",
      "    u = np.random.random() / population_length\n",
      "    p_index=0; sum_weights = 0\n",
      "    for k in xrange(population_length):\n",
      "        sum_weights += weights[k]\n",
      "        while (u < sum_weights ):\n",
      "            index_resampled[p_index] = k\n",
      "            p_index+=1\n",
      "            u = u + 1.0/population_length"
     ],
     "language": "python",
     "metadata": {},
     "outputs": [],
     "prompt_number": 2
    },
    {
     "cell_type": "code",
     "collapsed": false,
     "input": [
      "# Naive Monte Carlo for TARN price:\n",
      "def MC_TARN(m,k,S_0,sigma,mu,M,gamma_G,gamma_L):\n",
      "    S, G, L = [S_0]*M, np.zeros(M), np.zeros(M)\n",
      "    price, survive = np.zeros(M), np.ones(M)\n",
      "    mean, sd = (mu-0.5*sigma**2)*k/360, sigma*np.sqrt(k/360)\n",
      "    for n in range(m):\n",
      "        S += mean + sd*norm.rvs(0,1,M)\n",
      "        price += f(S)*survive\n",
      "        G += f_positive(S)*survive\n",
      "        L += f_negative(S)*survive\n",
      "        survive *= (G<gamma_G)*(L<gamma_L)     # these are the ones which are still 'alive' after time n\n",
      "    return np.mean(price)"
     ],
     "language": "python",
     "metadata": {},
     "outputs": [],
     "prompt_number": 3
    },
    {
     "cell_type": "code",
     "collapsed": false,
     "input": [
      "# SMC: \n",
      "def SMC_TARN(m,k,S_0,sigma,mu,M,gamma_G,gamma_L):\n",
      "    S, G, L = [S_0]*M, np.zeros(M), np.zeros(M)\n",
      "    weights, normalizing_constant = [1/M]*M, 1.0\n",
      "    price, survive = np.zeros(M), np.ones(M)\n",
      "    payoff_S = np.zeros(M)\n",
      "    index_resampled = int(np.ones(M))\n",
      "    mean, sd = (mu-0.5*sigma**2)*k/360, sigma*np.sqrt(k/360)\n",
      "    \n",
      "    for n in range(5):\n",
      "        S += mean + sd*norm.rvs(0,1,M)\n",
      "        payoff_S += f(S)*survive\n",
      "        G += f_positive(S)*survive\n",
      "        L += f_negative(S)*survive\n",
      "        survive *= (G<gamma_G)*(L<gamma_L) \n",
      "    payoff_S += 100\n",
      "    escaped_particles = (L<gamma_L)\n",
      "    weights *= payoff_S*escaped_particles\n",
      "    normalizing_constant *= np.sum(weights)\n",
      "    weights /= np.sum(weights)\n",
      "    systematic_resampling(S,weights,index_resampled) \n",
      "    S, payoff_S, G, L = S[index_resampled], payoff_S[index_resampled], G[index_resampled], L[index_resampled]\n",
      "    survive, weights = survive[index_resampled], 1/M\n",
      "    \n",
      "    weights /= payoff_S\n",
      "    for n in np.add(5,range(m-5)):\n",
      "        S += mean + sd*norm.rvs(0,1,M)\n",
      "        payoff_S += f(S)*survive\n",
      "        G += f_positive(S)*survive\n",
      "        L += f_negative(S)*survive\n",
      "        survive *= (G<gamma_G)*(L<gamma_L) \n",
      "    weights *= payoff_S\n",
      "    normalizing_constant *= np.sum(weights)\n",
      "    weights /= np.sum(weights)\n",
      "    \n",
      "    price = normalizing_constant - 100\n",
      "    \n",
      "    return price"
     ],
     "language": "python",
     "metadata": {},
     "outputs": [],
     "prompt_number": 89
    },
    {
     "cell_type": "code",
     "collapsed": false,
     "input": [
      "# Sanity check:\n",
      "\n",
      "MC_TARN(m,k,S_0,sigma,mu,M,gamma_G,gamma_L), SMC_TARN(m,k,S_0,sigma,mu,10**4,gamma_G,gamma_L)"
     ],
     "language": "python",
     "metadata": {},
     "outputs": [
      {
       "metadata": {},
       "output_type": "pyout",
       "prompt_number": 92,
       "text": [
        "(-92.911095998134726, -92.902565130473278)"
       ]
      }
     ],
     "prompt_number": 92
    },
    {
     "cell_type": "markdown",
     "metadata": {},
     "source": [
      "### Variance comparison:"
     ]
    },
    {
     "cell_type": "code",
     "collapsed": false,
     "input": [
      "def compare_methods(rep,M):\n",
      "    MC_TARN_estimate, SMC_TARN_estimate = np.zeros(rep), np.zeros(rep)\n",
      "    start_time = time.clock()\n",
      "    for r in range(rep):\n",
      "        MC_TARN_estimate[r] = MC_TARN(m,k,S_0,sigma,mu,M,gamma_G,gamma_L)\n",
      "    MC_time = time.clock() - start_time \n",
      "    start_time = time.clock()\n",
      "    for r in range(rep):\n",
      "        SMC_TARN_estimate[r] = SMC_TARN(m,k,S_0,sigma,mu,M,gamma_G,gamma_L)\n",
      "    SMC_time = time.clock() - start_time \n",
      "    print \"sigma =\", sigma, \", no. of particles =\", M\n",
      "    print \"Average time for one run of MC, SMC =\", round(MC_time/rep,2), \",\", round(SMC_time/rep,2), \"sec.\"\n",
      "    print \"Mean of MC, SMC =\", round(np.mean(MC_TARN_estimate),2), \",\", round(np.mean(SMC_TARN_estimate),2)\n",
      "    print \"Relative standard deviation of MC to SMC =\", round(np.std(MC_TARN_estimate)/np.std(SMC_TARN_estimate),2)\n",
      "    print \"Total time for\", rep, \"repetitions =\", round((MC_time+SMC_time)/60,2), \"minutes\""
     ],
     "language": "python",
     "metadata": {},
     "outputs": [],
     "prompt_number": 102
    },
    {
     "cell_type": "code",
     "collapsed": false,
     "input": [
      "sigma = 0.05\n",
      "compare_methods(rep=100,M=10**4)"
     ],
     "language": "python",
     "metadata": {},
     "outputs": [
      {
       "output_type": "stream",
       "stream": "stdout",
       "text": [
        "sigma = 0.05 , no. of particles = 10000\n",
        "Average time for one run of MC, SMC = 0.07 , 0.28 sec.\n",
        "Mean of MC, SMC = -99.78 , -99.77\n",
        "Relative standard deviation of MC to SMC = 1.13\n",
        "Total time for 100 repetitions = 0.59 minutes\n"
       ]
      }
     ],
     "prompt_number": 104
    },
    {
     "cell_type": "code",
     "collapsed": false,
     "input": [
      "sigma = 0.02\n",
      "compare_methods(rep=100,M=10**5)"
     ],
     "language": "python",
     "metadata": {},
     "outputs": [
      {
       "output_type": "stream",
       "stream": "stdout",
       "text": [
        "sigma = 0.02 , no. of particles = 100000\n",
        "Average time for one run of MC, SMC = 0.65 , 2.79 sec.\n",
        "Mean of MC, SMC = -100.0 , nan\n",
        "Relative standard deviation of MC to SMC = nan\n",
        "Total time for 100 repetitions = 5.74 minutes\n"
       ]
      }
     ],
     "prompt_number": 106
    },
    {
     "cell_type": "code",
     "collapsed": false,
     "input": [
      "sigma = 0.04\n",
      "compare_methods(rep=100,M=10**5)"
     ],
     "language": "python",
     "metadata": {},
     "outputs": [
      {
       "output_type": "stream",
       "stream": "stdout",
       "text": [
        "sigma = 0.04 , no. of particles = 100000\n",
        "Average time for one run of MC, SMC = 0.66 , 2.75 sec.\n",
        "Mean of MC, SMC = -99.99 , -99.99\n",
        "Relative standard deviation of MC to SMC = 1.31\n",
        "Total time for 100 repetitions = 5.67 minutes\n"
       ]
      }
     ],
     "prompt_number": 107
    },
    {
     "cell_type": "code",
     "collapsed": false,
     "input": [
      "sigma = 0.03\n",
      "compare_methods(rep=100,M=10**5)"
     ],
     "language": "python",
     "metadata": {},
     "outputs": [
      {
       "output_type": "stream",
       "stream": "stdout",
       "text": [
        "sigma = 0.03 , no. of particles = 100000\n",
        "Average time for one run of MC, SMC = 0.66 , 2.72 sec.\n",
        "Mean of MC, SMC = -100.0 , nan\n",
        "Relative standard deviation of MC to SMC = nan\n",
        "Total time for 100 repetitions = 5.63 minutes\n"
       ]
      }
     ],
     "prompt_number": 108
    },
    {
     "cell_type": "code",
     "collapsed": false,
     "input": [],
     "language": "python",
     "metadata": {},
     "outputs": []
    }
   ],
   "metadata": {}
  }
 ]
}