{
 "metadata": {
  "name": "",
  "signature": "sha256:6bca107b76488e8fb99a0a06aedd1fdc26dc14f5b8e3b329679b769da3bf6b69"
 },
 "nbformat": 3,
 "nbformat_minor": 0,
 "worksheets": [
  {
   "cells": [
    {
     "cell_type": "markdown",
     "metadata": {},
     "source": [
      "#### (This computes the survival probability of a TARN. Not being used for the moment).\n",
      "\n",
      "### Computing the survival probability of a TARN using SMC:"
     ]
    },
    {
     "cell_type": "code",
     "collapsed": false,
     "input": [
      "# Calling libraries:\n",
      "%matplotlib inline  \n",
      "from __future__ import division\n",
      "import numpy as np\n",
      "import time\n",
      "from scipy.stats import norm, uniform\n",
      "from pylab import plot, show, legend\n",
      "import matplotlib.pyplot as plt\n",
      "plt.rcParams['figure.figsize'] = (16.0, 5.0) #for larger plots\n",
      "\n",
      "# Initializing:\n",
      "\n",
      "m, k, M = 20.0, 30, 10**3\n",
      "S_0, sigma, mu = np.log(100), 3.0, 0.0\n",
      "c_SMC_survival = 0.5\n",
      "gamma_L, gamma_G = 10, 10"
     ],
     "language": "python",
     "metadata": {},
     "outputs": [],
     "prompt_number": 1
    },
    {
     "cell_type": "code",
     "collapsed": false,
     "input": [
      "def f(x):\n",
      "    return x\n",
      "def f_positive(x):\n",
      "    return f(x)*(f(x)>0)\n",
      "def f_negative(x):\n",
      "    return -f(x)*(f(x)<0)\n",
      "np.vectorize(f)\n",
      "np.vectorize(f_positive)\n",
      "np.vectorize(f_negative)"
     ],
     "language": "python",
     "metadata": {},
     "outputs": [
      {
       "metadata": {},
       "output_type": "pyout",
       "prompt_number": 2,
       "text": [
        "<numpy.lib.function_base.vectorize at 0xa0e4c18>"
       ]
      }
     ],
     "prompt_number": 2
    },
    {
     "cell_type": "code",
     "collapsed": false,
     "input": [
      "# This is using SMC to calculate the survival probability:\n",
      "# Using blind SMC for now\n",
      "\n",
      "def SMC_survival_probability(t,m,k,S_0,sigma,mu,M,c_SMC_survival,gamma_L,gamma_G):\n",
      "    \n",
      "    weights, S  = [1/M]*M, [S_0]*M\n",
      "    cut_off, normalizing_constant = M*c_SMC_survival, 1\n",
      "    G, L = np.zeros(M), np.zeros(M)\n",
      "    mean, sd = (mu-0.5*sigma**2)*k/360, sigma*np.sqrt(k/360)\n",
      "    \n",
      "    # Time steps 1, 2, ..., t-1:\n",
      "    for n in np.add(1,range(t-1)):                                          # n = 1, 2, 3, ..., t-1\n",
      "        S = np.add(mean,S+sd*norm.rvs(0,1,M))\n",
      "        G += f_positive(S)\n",
      "        L += f_negative(S)\n",
      "        weights *= (G<gamma_G)*(L<gamma_L)\n",
      "        normalizing_constant *= np.sum(weights) \n",
      "        weights /= np.sum(weights)\n",
      "        ESS = 1/np.sum(weights**2)\n",
      "        if(ESS<cut_off):\n",
      "            resampling_index= np.random.choice(a=range(M),size=M,p=weights)\n",
      "            S, G, L, weights = S[resampling_index], G[resampling_index], L[resampling_index], [1/M]*M \n",
      "        \n",
      "    # Time step t: \n",
      "    S = np.add(mean,S+sd*norm.rvs(0,1,M))\n",
      "    G += f_positive(S)\n",
      "    L += f_negative(S)\n",
      "    # Incremental weights:\n",
      "    incremental_weights_1, incremental_weights_2  = (G>=gamma_G), (L>=gamma_L)\n",
      "    incremental_weights_3, incremental_weights_4 = (G>=gamma_G)*(L>=gamma_L), np.asarray([0]*M)\n",
      "    if(t==m):\n",
      "        incremental_weights_4 = (G<gamma_G)*(L<gamma_L)\n",
      "    # Normalizing contants:\n",
      "    normalizing_constant_1 = normalizing_constant*np.sum(weights*incremental_weights_1) \n",
      "    normalizing_constant_2 = normalizing_constant*np.sum(weights*incremental_weights_2) \n",
      "    normalizing_constant_3 = normalizing_constant*np.sum(weights*incremental_weights_3) \n",
      "    normalizing_constant_4 = normalizing_constant*np.sum(weights*incremental_weights_4)\n",
      "    \n",
      "    return normalizing_constant_1 + normalizing_constant_2 - normalizing_constant_3 + normalizing_constant_4"
     ],
     "language": "python",
     "metadata": {},
     "outputs": [],
     "prompt_number": 3
    },
    {
     "cell_type": "code",
     "collapsed": false,
     "input": [
      "def naive_MC_survival_probability(t,m,k,S_0,sigma,mu,M,gamma_L,gamma_G):\n",
      "    G, L, S, survive = np.zeros(M), np.zeros(M), [S_0]*M, np.ones(M)\n",
      "    mean, sd = (mu-0.5*sigma**2)*k/360, sigma*np.sqrt(k/360)\n",
      "    for n in range(t-1):\n",
      "        S = np.add(mean,S+sd*norm.rvs(0,1,M))\n",
      "        G += f_positive(S)\n",
      "        L += f_negative(S)\n",
      "        survive *= (G<gamma_G)*(L<gamma_L)\n",
      "    S = np.add(mean,S+sd*norm.rvs(0,1,M))\n",
      "    G += f_positive(S)\n",
      "    L += f_negative(S)\n",
      "    survive_1 = survive*((G>=gamma_G)+(L>=gamma_L)-(L>=gamma_L)*(G>=gamma_G))\n",
      "    survive_2 = np.asarray([0]*M)\n",
      "    if(t==m):\n",
      "        survive_2 = survive*(G<gamma_G)*(L<gamma_L)\n",
      "    return np.mean(survive_1+survive_2) "
     ],
     "language": "python",
     "metadata": {},
     "outputs": [],
     "prompt_number": 4
    },
    {
     "cell_type": "code",
     "collapsed": false,
     "input": [
      "m, k, M = 20, 30, 10**5\n",
      "c_SMC_survival = 0.5\n",
      "gamma_L, gamma_G = 10, 10\n",
      "\n",
      "survival_probability_naive_MC = np.zeros(m)\n",
      "survival_probability_SMC = np.zeros(m)\n",
      " \n",
      "for t in np.add(1,range(m)):                              # t = 1, 2, ..., m\n",
      "    survival_probability_naive_MC[t-1] = naive_MC_survival_probability(t,m,k,S_0,sigma,mu,10**5,gamma_L,gamma_G)\n",
      "    survival_probability_SMC[t-1] = SMC_survival_probability(t,m,k,S_0,sigma,mu,10**5,c_SMC_survival,gamma_L,gamma_G)\n",
      "    \n",
      "plt.figure()\n",
      "plt.plot(np.add(1,range(m)),survival_probability_naive_MC,\"r*\",np.add(1,range(m)),survival_probability_SMC,\"b-\")\n",
      "plt.ylabel('Survival probability')\n",
      "plt.xlabel('Time')\n",
      "plt.title(\"Survival Probability\")\n",
      "plt.xlim([0,m+1])\n",
      "plt.ylim([-0.1,0.6])\n",
      "plt.show()"
     ],
     "language": "python",
     "metadata": {},
     "outputs": [
      {
       "metadata": {},
       "output_type": "display_data",
       "png": "[encoded data removed]",
       "text": [
        "<matplotlib.figure.Figure at 0x399f128>"
       ]
      }
     ],
     "prompt_number": 5
    },
    {
     "cell_type": "code",
     "collapsed": false,
     "input": [],
     "language": "python",
     "metadata": {},
     "outputs": []
    }
   ],
   "metadata": {}
  }
 ]
}