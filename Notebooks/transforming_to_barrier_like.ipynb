{
 "cells": [
  {
   "cell_type": "markdown",
   "metadata": {},
   "source": [
    "#### Transforming the problem into the barrier option type. \n",
    "\n",
    "### Description:\n",
    "* Consider a new payoff function $g(S_{1:M}) = \\sum_{i=1}^{\\tau} f(S_{i}) + 100$. Then $g \\geq 0$.\n",
    "* We divide the state sace $\\mathbb{R}^{m}$ into two parts, one where the new payoff is 0 (ie when a particle does not escape the piy by time 5) and the other where the payoff is positive. \n",
    "* When a particle does not escape by time 5, we resample it from among the ones that have escaped. "
   ]
  },
  {
   "cell_type": "code",
   "execution_count": 1,
   "metadata": {},
   "outputs": [
    {
     "data": {
      "text/plain": [
       "<numpy.lib.function_base.vectorize at 0x3658208>"
      ]
     },
     "execution_count": 1,
     "metadata": {},
     "output_type": "execute_result"
    }
   ],
   "source": [
    "# Calling libraries:\n",
    "%matplotlib inline  \n",
    "from __future__ import division\n",
    "import numpy as np\n",
    "import time\n",
    "from scipy.stats import norm, uniform\n",
    "from pylab import plot, show, legend\n",
    "import matplotlib.pyplot as plt\n",
    "plt.rcParams['figure.figsize'] = (10.0, 3.0) #for larger plots\n",
    "int = np.vectorize(int)\n",
    "\n",
    "# Initialization:\n",
    "m, k, M = 24, 30, 10**5\n",
    "gamma_L, gamma_G = 100, 200\n",
    "S_0, mu, sigma = np.log(100), 0, 0.08\n",
    "\n",
    "# Payoff function:\n",
    "def f(x):\n",
    "    s = np.exp(x)\n",
    "    return (2*(s-110)+20)*(s>110) + (2*(80-s)+20)*(s<90) - 20*(s<=110)*(s>=90)  \n",
    "def f_positive(x):\n",
    "    return f(x)*(f(x)>0)\n",
    "def f_negative(x):\n",
    "    return -f(x)*(f(x)<0)\n",
    "def payoff_function(x):\n",
    "    return 100 + f(x)\n",
    "np.vectorize(f)\n",
    "np.vectorize(f_positive)\n",
    "np.vectorize(f_negative)\n",
    "np.vectorize(payoff_function)"
   ]
  },
  {
   "cell_type": "code",
   "execution_count": 2,
   "metadata": {},
   "outputs": [],
   "source": [
    "# Systematic resampling function: \n",
    "def systematic_resampling(population, weights, index_resampled):\n",
    "    weights /= np.sum(weights)\n",
    "    population_length = len(population)\n",
    "    u = np.random.random() / population_length\n",
    "    p_index=0; sum_weights = 0\n",
    "    for k in xrange(population_length):\n",
    "        sum_weights += weights[k]\n",
    "        while (u < sum_weights ):\n",
    "            index_resampled[p_index] = k\n",
    "            p_index+=1\n",
    "            u = u + 1.0/population_length"
   ]
  },
  {
   "cell_type": "code",
   "execution_count": 3,
   "metadata": {},
   "outputs": [],
   "source": [
    "# Naive Monte Carlo for TARN price:\n",
    "def MC_TARN(m,k,S_0,sigma,mu,M,gamma_G,gamma_L):\n",
    "    S, G, L = [S_0]*M, np.zeros(M), np.zeros(M)\n",
    "    price, survive = np.zeros(M), np.ones(M)\n",
    "    mean, sd = (mu-0.5*sigma**2)*k/360, sigma*np.sqrt(k/360)\n",
    "    for n in range(m):\n",
    "        S += mean + sd*norm.rvs(0,1,M)\n",
    "        price += f(S)*survive\n",
    "        G += f_positive(S)*survive\n",
    "        L += f_negative(S)*survive\n",
    "        survive *= (G<gamma_G)*(L<gamma_L)     # these are the ones which are still 'alive' after time n\n",
    "    return np.mean(price) + 100"
   ]
  },
  {
   "cell_type": "code",
   "execution_count": 12,
   "metadata": {},
   "outputs": [],
   "source": [
    "# SMC: \n",
    "\n",
    "def SMC_TARN(m,k,S_0,sigma,mu,M,gamma_G,gamma_L):\n",
    "    \n",
    "    S, G, L = [S_0]*M, np.zeros(M), np.zeros(M)\n",
    "    weights, normalizing_constant = [1/M]*M, 1.0\n",
    "    survive, payoff_S, index_resampled = np.ones(M), np.zeros(M), int(np.ones(M))\n",
    "    mean, sd = (mu-0.5*sigma**2)*k/360, sigma*np.sqrt(k/360)\n",
    "    \n",
    "    for n in range(5):\n",
    "        S += mean + sd*norm.rvs(0,1,M)\n",
    "        payoff_S += f(S)*survive\n",
    "        G += f_positive(S)*survive\n",
    "        L += f_negative(S)*survive\n",
    "        survive *= (G<gamma_G)*(L<gamma_L) \n",
    "    payoff_S += 100 \n",
    "    weights *= payoff_S*(L<gamma_L)\n",
    "    n_escaped = np.sum(L<gamma_L)\n",
    "    normalizing_constant *= np.sum(weights)\n",
    "    weights /= np.sum(weights)\n",
    "    systematic_resampling(S,weights,index_resampled) \n",
    "    S, payoff_S, G, L = S[index_resampled], payoff_S[index_resampled], G[index_resampled], L[index_resampled]\n",
    "    survive, weights = survive[index_resampled], 1/M\n",
    "    \n",
    "    weights /= payoff_S\n",
    "    for n in np.add(5,range(m-5)):\n",
    "        S += mean + sd*norm.rvs(0,1,M)\n",
    "        payoff_S += f(S)*survive\n",
    "        G += f_positive(S)*survive\n",
    "        L += f_negative(S)*survive\n",
    "        survive *= (G<gamma_G)*(L<gamma_L) \n",
    "    weights *= payoff_S\n",
    "    normalizing_constant *= np.sum(weights)\n",
    "    weights /= np.sum(weights)\n",
    "    \n",
    "    return normalizing_constant, n_escaped"
   ]
  },
  {
   "cell_type": "code",
   "execution_count": 5,
   "metadata": {},
   "outputs": [
    {
     "data": {
      "text/plain": [
       "(7.0961396061894106, 7.1783713279869943)"
      ]
     },
     "execution_count": 5,
     "metadata": {},
     "output_type": "execute_result"
    }
   ],
   "source": [
    "# Sanity check:\n",
    "\n",
    "MC_TARN(m,k,S_0,sigma,mu,M,gamma_G,gamma_L), SMC_TARN(m,k,S_0,sigma,mu,10**4,gamma_G,gamma_L)"
   ]
  },
  {
   "cell_type": "markdown",
   "metadata": {},
   "source": [
    "### Variance comparison:"
   ]
  },
  {
   "cell_type": "code",
   "execution_count": 6,
   "metadata": {},
   "outputs": [],
   "source": [
    "def compare_methods(rep,M):\n",
    "    MC_TARN_estimate, SMC_TARN_estimate = np.zeros(rep), np.zeros(rep)\n",
    "    start_time = time.clock()\n",
    "    for r in range(rep):\n",
    "        MC_TARN_estimate[r] = MC_TARN(m,k,S_0,sigma,mu,M,gamma_G,gamma_L)\n",
    "    MC_time = time.clock() - start_time \n",
    "    start_time = time.clock()\n",
    "    for r in range(rep):\n",
    "        SMC_TARN_estimate[r] = SMC_TARN(m,k,S_0,sigma,mu,M,gamma_G,gamma_L)[0]\n",
    "    SMC_time = time.clock() - start_time \n",
    "    print \"sigma =\", sigma, \", no. of particles =\", M\n",
    "    print \"Average time for one run of MC, SMC =\", round(MC_time/rep,2), \",\", round(SMC_time/rep,2), \"sec.\"\n",
    "    print \"Mean of MC, SMC =\", round(np.mean(MC_TARN_estimate),2), \",\", round(np.mean(SMC_TARN_estimate),2)\n",
    "    print \"Relative standard deviation of MC to SMC =\", round(np.std(MC_TARN_estimate)/np.std(SMC_TARN_estimate),2)\n",
    "    print \"Total time for\", rep, \"repetitions =\", round((MC_time+SMC_time)/60,2), \"minutes\""
   ]
  },
  {
   "cell_type": "code",
   "execution_count": 7,
   "metadata": {},
   "outputs": [
    {
     "name": "stdout",
     "output_type": "stream",
     "text": [
      "sigma = 0.08 , no. of particles = 10000\n",
      "Average time for one run of MC, SMC = 0.05 , 0.07 sec.\n",
      "Mean of MC, SMC = 7.14 , 7.11\n",
      "Relative standard deviation of MC to SMC = 1.02\n",
      "Total time for 100 repetitions = 0.2 minutes\n"
     ]
    }
   ],
   "source": [
    "sigma = 0.08\n",
    "compare_methods(rep=100,M=10**4)"
   ]
  },
  {
   "cell_type": "code",
   "execution_count": 8,
   "metadata": {},
   "outputs": [
    {
     "name": "stderr",
     "output_type": "stream",
     "text": [
      "-c:19: RuntimeWarning: invalid value encountered in true_divide\n",
      "-c:24: RuntimeWarning: divide by zero encountered in true_divide\n",
      "-c:31: RuntimeWarning: invalid value encountered in multiply\n"
     ]
    },
    {
     "name": "stdout",
     "output_type": "stream",
     "text": [
      "sigma = 0.02 , no. of particles = 100000\n",
      "Average time for one run of MC, SMC = 0.64 , 0.58 sec.\n",
      "Mean of MC, SMC = 0.0 , nan\n",
      "Relative standard deviation of MC to SMC = nan\n",
      "Total time for 100 repetitions = 2.04 minutes\n"
     ]
    }
   ],
   "source": [
    "sigma = 0.02\n",
    "compare_methods(rep=100,M=10**5)"
   ]
  },
  {
   "cell_type": "code",
   "execution_count": 9,
   "metadata": {},
   "outputs": [
    {
     "name": "stdout",
     "output_type": "stream",
     "text": [
      "sigma = 0.03 , no. of particles = 100000\n",
      "Average time for one run of MC, SMC = 0.56 , 0.65 sec.\n",
      "Mean of MC, SMC = 0.0 , nan\n",
      "Relative standard deviation of MC to SMC = nan\n",
      "Total time for 100 repetitions = 2.01 minutes\n"
     ]
    }
   ],
   "source": [
    "sigma = 0.03\n",
    "compare_methods(rep=100,M=10**5)"
   ]
  },
  {
   "cell_type": "code",
   "execution_count": 10,
   "metadata": {},
   "outputs": [
    {
     "name": "stdout",
     "output_type": "stream",
     "text": [
      "sigma = 0.04 , no. of particles = 100000\n",
      "Average time for one run of MC, SMC = 0.51 , 0.57 sec.\n",
      "Mean of MC, SMC = 0.01 , 0.01\n",
      "Relative standard deviation of MC to SMC = 1.22\n",
      "Total time for 100 repetitions = 1.81 minutes\n"
     ]
    }
   ],
   "source": [
    "sigma = 0.04\n",
    "compare_methods(rep=100,M=10**5)"
   ]
  },
  {
   "cell_type": "code",
   "execution_count": 11,
   "metadata": {},
   "outputs": [
    {
     "name": "stdout",
     "output_type": "stream",
     "text": [
      "sigma = 0.05 , no. of particles = 100000\n",
      "Average time for one run of MC, SMC = 0.51 , 0.58 sec.\n",
      "Mean of MC, SMC = 0.23 , 0.23\n",
      "Relative standard deviation of MC to SMC = 1.05\n",
      "Total time for 100 repetitions = 1.81 minutes\n"
     ]
    }
   ],
   "source": [
    "sigma = 0.05\n",
    "compare_methods(rep=100,M=10**5)"
   ]
  },
  {
   "cell_type": "code",
   "execution_count": 15,
   "metadata": {},
   "outputs": [
    {
     "data": {
      "text/plain": [
       "(0.0127394227789838, 13)"
      ]
     },
     "execution_count": 15,
     "metadata": {},
     "output_type": "execute_result"
    }
   ],
   "source": [
    "sigma = 0.04\n",
    "SMC_TARN(m,k,S_0,sigma,mu,10**5,gamma_G,gamma_L)"
   ]
  },
  {
   "cell_type": "code",
   "execution_count": 20,
   "metadata": {},
   "outputs": [
    {
     "data": {
      "text/plain": [
       "(0.23834415221107519, 241)"
      ]
     },
     "execution_count": 20,
     "metadata": {},
     "output_type": "execute_result"
    }
   ],
   "source": [
    "sigma = 0.05\n",
    "SMC_TARN(m,k,S_0,sigma,mu,10**5,gamma_G,gamma_L)"
   ]
  },
  {
   "cell_type": "code",
   "execution_count": 17,
   "metadata": {},
   "outputs": [],
   "source": []
  },
  {
   "cell_type": "code",
   "execution_count": null,
   "metadata": {},
   "outputs": [],
   "source": []
  }
 ],
 "metadata": {
  "kernelspec": {
   "display_name": "Python 2",
   "language": "python",
   "name": "python2"
  },
  "language_info": {
   "codemirror_mode": {
    "name": "ipython",
    "version": 2
   },
   "file_extension": ".py",
   "mimetype": "text/x-python",
   "name": "python",
   "nbconvert_exporter": "python",
   "pygments_lexer": "ipython2",
   "version": "2.7.12"
  }
 },
 "nbformat": 4,
 "nbformat_minor": 1
}
