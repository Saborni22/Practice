{
 "metadata": {
  "name": "",
  "signature": "sha256:97444ab9ea718b6a7837ccd3c3b9ffba644a32b51ebf01b90797c04017f30214"
 },
 "nbformat": 3,
 "nbformat_minor": 0,
 "worksheets": [
  {
   "cells": [
    {
     "cell_type": "markdown",
     "metadata": {},
     "source": [
      "#### (This uses temperature schemes to try and price TARNS)\n",
      "\n",
      "### Description: \n",
      "(working on a log-scale)\n",
      "* Evolution of underlying:\n",
      "$$ S_{n} = S_{n-1} + \\left ( \\mu - \\frac{1}{2} \\sigma^{2} \\right ) \\frac{k}{360} + \\mathcal{N}\\left ( 0, \\sigma^{2} \\frac{k}{360} \\right ). $$\n",
      "* Want to estimate $ \\mathbb{E} | \\sum_{i=1}^{\\tau_{m}} f(S_{i}) | $ using SIR.\n",
      "* In general, choose $$ \\pi_{n}(s_{1:n}) = \\frac{ \\gamma_{n}(s_{1:n}) }{ Z_{n} }, $$\n",
      "where $ \\gamma_{n}(s_{1:n}) = | \\sum_{i=1}^{\\tau_{m}} f(s_{i}) |^{\\kappa_{n}} p(s_{1:n}) $ and $Z_{n} = \\int | \\sum_{i=1}^{\\tau_{m}} f(s_{i}) | p(s_{1:n}) \\text{d} s_{1:n} $.\n",
      "* Set $\\kappa_{m} = 1$.\n",
      "* Do SIR with proposal $ q_{n}(s_{1:n}) = p_{n}(s_{1:n}) $.\n",
      "* Then incremental weights\n",
      "$$ \\alpha_{n}(s_{1:n}) = \\frac{ \\gamma_{n}(s_{1:n}) }{ \\gamma_{n-1}(s_{1:n-1}) q_{n}(s_{n}|s_{1:n-1}) } = \\frac{ | \\sum_{i=1}^{\\tau_{n}} f(s_{i}) |^{\\kappa_{n}} } { | \\sum_{i=1}^{\\tau_{n-1}} f(s_{i}) |^{\\kappa_{n-1}} }. $$\n",
      "* Try different sequences of $\\kappa$'s."
     ]
    },
    {
     "cell_type": "code",
     "collapsed": false,
     "input": [
      "# Calling libraries:\n",
      "%matplotlib inline  \n",
      "from __future__ import division\n",
      "import numpy as np\n",
      "import time\n",
      "from scipy.stats import norm, uniform\n",
      "from pylab import plot, show, legend\n",
      "import matplotlib.pyplot as plt\n",
      "plt.rcParams['figure.figsize'] = (10.0, 3.0) #for larger plots\n",
      "int = np.vectorize(int)"
     ],
     "language": "python",
     "metadata": {},
     "outputs": [],
     "prompt_number": 1
    },
    {
     "cell_type": "markdown",
     "metadata": {},
     "source": [
      "#### Naive MC:"
     ]
    },
    {
     "cell_type": "code",
     "collapsed": false,
     "input": [
      "# Naive Monte Carlo for TARN price:\n",
      "\n",
      "def naive_MC_TARN(m,k,S_0,sigma,mu,M,gamma_G,gamma_L):\n",
      "    S, G, L = [S_0]*M, np.zeros(M), np.zeros(M)\n",
      "    price, survive = np.zeros(M), np.ones(M)\n",
      "    mean, sd = (mu-0.5*sigma**2)*k/360, sigma*np.sqrt(k/360)\n",
      "    for n in range(m):\n",
      "        S += mean + sd*norm.rvs(0,1,M)\n",
      "        price += f(S)*survive\n",
      "        G += f_positive(S)*survive\n",
      "        L += f_negative(S)*survive\n",
      "        survive *= (G<gamma_G)*(L<gamma_L)     # these are the ones which are still 'alive' after time n\n",
      "    return np.mean(np.absolute(price))"
     ],
     "language": "python",
     "metadata": {},
     "outputs": [],
     "prompt_number": 2
    },
    {
     "cell_type": "markdown",
     "metadata": {},
     "source": [
      "### SIR for TARN:"
     ]
    },
    {
     "cell_type": "code",
     "collapsed": false,
     "input": [
      "# SIR for TARN \n",
      "# multinomial resampling for the time being\n",
      "# using process density as proposal \n",
      "\n",
      "def SIR_TARN(m,k,S_0,sigma,mu,M,c,gamma_G,gamma_L,kappa):\n",
      "    \n",
      "    G, L, f_S = np.zeros(M), np.zeros(M), np.zeros(M)\n",
      "    S, weights, survive = [S_0]*M, [1/M]*M, np.ones(M)\n",
      "    cut_off, normalizing_constant = c*M, 1.0\n",
      "    mean, sd = (mu-0.5*sigma**2)*k/360, sigma*np.sqrt(k/360)\n",
      "    \n",
      "    # First month:\n",
      "    S += mean + sd*norm.rvs(0,1,M)\n",
      "    G += f_positive(S)\n",
      "    L += f_negative(S)\n",
      "    f_S += f(S)                         # keeping track of the sum of the path\n",
      "    weights *= np.power(np.abs(f_S),kappa[0])\n",
      "    normalizing_constant *= np.sum(weights)\n",
      "    weights /= np.sum(weights)\n",
      "    ESS = 1/np.sum(weights**2)\n",
      "    if(ESS<cut_off):\n",
      "        resampling_index = np.random.choice(a=range(M),size=M,p=weights)\n",
      "        S, G, L = S[resampling_index], G[resampling_index], L[resampling_index]\n",
      "        f_S = f_S[resampling_index]\n",
      "        weights = [1/M]*M\n",
      "    survive *= (G<gamma_G)*(L<gamma_L)  # these are paths that are 'alive' after the first time step\n",
      "        \n",
      "    # Subsequent months:\n",
      "    for n in np.add(2,range(m-1)):      # n = 2, 3, ..., m\n",
      "        # computing weights:\n",
      "        weights /= np.power(np.abs(f_S),kappa[n-2])\n",
      "        S += (mean+sd*norm.rvs(0,1,M))*survive\n",
      "        f_S += f(S)*survive             # keeping track of the sum of the path\n",
      "        weights *= np.power(np.abs(f_S),kappa[n-1])\n",
      "        normalizing_constant *= np.sum(weights)\n",
      "        weights /= np.sum(weights)\n",
      "        # gain and loss processes:\n",
      "        G += f_positive(S)*survive\n",
      "        L += f_negative(S)*survive\n",
      "        # resampling:\n",
      "        ESS = 1/np.sum(weights**2)\n",
      "        if(ESS<cut_off):\n",
      "            resampling_index = np.random.choice(a=range(M),size=M,p=weights)\n",
      "            S, G, L = S[resampling_index], G[resampling_index], L[resampling_index] \n",
      "            survive, f_S = survive[resampling_index], f_S[resampling_index]\n",
      "            weights = [1/M]*M \n",
      "        survive *= (G<gamma_G)*(L<gamma_L) # these are paths that are 'alive' after the n-th time step\n",
      "            \n",
      "    return normalizing_constant"
     ],
     "language": "python",
     "metadata": {},
     "outputs": [],
     "prompt_number": 3
    },
    {
     "cell_type": "markdown",
     "metadata": {},
     "source": [
      "##### Sanity check (is the code correct)?\n",
      "* Comparing with naive MC."
     ]
    },
    {
     "cell_type": "code",
     "collapsed": false,
     "input": [
      "def f(x):\n",
      "    return x\n",
      "def f_positive(x):\n",
      "    return f(x)*(f(x)>0)\n",
      "def f_negative(x):\n",
      "    return -f(x)*(f(x)<0)\n",
      "np.vectorize(f)\n",
      "np.vectorize(f_positive)\n",
      "np.vectorize(f_negative)\n",
      "m, k, M = 10, 30, 10**5\n",
      "S_0, sigma, mu = np.log(100), 1.0, 0.0\n",
      "c_SIR_TARN = 0.5\n",
      "kappa = np.ones(m)\n",
      "gamma_L, gamma_G = 10, 10\n",
      "naive_MC_TARN(m,k,S_0,sigma,mu,M,gamma_G,gamma_L), SIR_TARN(m,k,S_0,sigma,mu,M,c_SIR_TARN,gamma_G,gamma_L,kappa)"
     ],
     "language": "python",
     "metadata": {},
     "outputs": [
      {
       "metadata": {},
       "output_type": "pyout",
       "prompt_number": 5,
       "text": [
        "(13.159674535215821, 13.161878466923904)"
       ]
      }
     ],
     "prompt_number": 5
    },
    {
     "cell_type": "code",
     "collapsed": false,
     "input": [
      "def f(x):\n",
      "    return np.sin(x)/(1.5+np.cos(2*x))\n",
      "def f_positive(x):\n",
      "    return f(x)*(f(x)>0)\n",
      "def f_negative(x):\n",
      "    return -f(x)*(f(x)<0)\n",
      "np.vectorize(f)\n",
      "np.vectorize(f_positive)\n",
      "np.vectorize(f_negative)\n",
      "m, k, M = 20, 90, 10**5\n",
      "gamma_L, gamma_G = 3, 4\n",
      "mu, sigma = 0.01, 2.3\n",
      "kappa = np.ones(m)\n",
      "naive_MC_TARN(m,k,S_0,sigma,mu,M,gamma_G,gamma_L), SIR_TARN(m,k,S_0,sigma,mu,M,c_SIR_TARN,gamma_G,gamma_L,kappa)"
     ],
     "language": "python",
     "metadata": {},
     "outputs": [
      {
       "metadata": {},
       "output_type": "pyout",
       "prompt_number": 7,
       "text": [
        "(2.6553017504723306, 2.6597559511348594)"
       ]
      }
     ],
     "prompt_number": 7
    },
    {
     "cell_type": "markdown",
     "metadata": {},
     "source": [
      "* So working unbisedly. \n",
      "* What about relative variance? "
     ]
    },
    {
     "cell_type": "code",
     "collapsed": false,
     "input": [
      "def compare_methods(m,k,S_0,sigma,mu,M,c_SIR_TARN,gamma_G,gamma_L,rep,kappa):\n",
      "    MC_TARN_estimate, SIR_TARN_estimate = np.zeros(rep), np.zeros(rep)\n",
      "    start_time = time.clock()\n",
      "    for r in range(rep):\n",
      "        MC_TARN_estimate[r] = naive_MC_TARN(m,k,S_0,sigma,mu,M,gamma_G,gamma_L)\n",
      "    MC_time = time.clock() - start_time \n",
      "    start_time = time.clock()\n",
      "    for r in range(rep):\n",
      "        SIR_TARN_estimate[r] = SIR_TARN(m,k,S_0,sigma,mu,M,c_SIR_TARN,gamma_G,gamma_L,kappa)\n",
      "    SIR_time = time.clock() - start_time \n",
      "    print \"m =\", m, \", k =\", k, \", M =\", M, \", S_0 =\", np.exp(S_0), \", sigma =\", sigma, \", mu =\", mu, \", gamma_G =\", gamma_G, \", gamma_L =\", gamma_L\n",
      "    print \"Average time for one run of MC, SIR =\", round(MC_time/rep,3), \",\", round(SIR_time/rep,3), \"sec.\"\n",
      "    print \"(Temperatures) kappa =\", kappa\n",
      "    print \"Mean of MC, SIR =\", round(np.mean(MC_TARN_estimate),2), \",\", round(np.mean(SIR_TARN_estimate),2)\n",
      "    print \"Relative standard deviation of MC to SIR =\", round(np.std(MC_TARN_estimate)/np.std(SIR_TARN_estimate),2)\n",
      "    print \"Total time =\", round((MC_time+SIR_time)/60,3), \"minutes\""
     ],
     "language": "python",
     "metadata": {},
     "outputs": [],
     "prompt_number": 8
    },
    {
     "cell_type": "code",
     "collapsed": false,
     "input": [
      "# Trial run:\n",
      "m, k, M, rep = 5, 90, 10**4, 5\n",
      "compare_methods(m,k,S_0,sigma,mu,M,c_SIR_TARN,gamma_G,gamma_L,rep,kappa)"
     ],
     "language": "python",
     "metadata": {},
     "outputs": [
      {
       "output_type": "stream",
       "stream": "stdout",
       "text": [
        "m = 5 , k = 90 , M = 10000 , S_0 = 100.0 , sigma = 2.3 , mu = 0.01 , gamma_G = 4 , gamma_L = 3\n",
        "Average time for one run of MC, SIR = 0.016 , 0.016 sec.\n",
        "(Temperatures) kappa = [ 1.  1.  1.  1.  1.  1.  1.  1.  1.  1.  1.  1.  1.  1.  1.  1.  1.  1.\n",
        "  1.  1.]\n",
        "Mean of MC, SIR = 2.02 , 2.02\n",
        "Relative standard deviation of MC to SIR = 0.42\n",
        "Total time = 0.003 minutes\n"
       ]
      }
     ],
     "prompt_number": 9
    },
    {
     "cell_type": "code",
     "collapsed": false,
     "input": [
      "# Real run:\n",
      "m, k, M, rep = 20, 90, 10**5, 100\n",
      "compare_methods(m,k,S_0,sigma,mu,M,c_SIR_TARN,gamma_G,gamma_L,rep,kappa)"
     ],
     "language": "python",
     "metadata": {},
     "outputs": [
      {
       "output_type": "stream",
       "stream": "stdout",
       "text": [
        "m = 20 , k = 90 , M = 100000 , S_0 = 100.0 , sigma = 2.3 , mu = 0.01 , gamma_G = 4 , gamma_L = 3\n",
        "Average time for one run of MC, SIR = 0.619 , 0.635 sec.\n",
        "(Temperatures) kappa = [ 1.  1.  1.  1.  1.  1.  1.  1.  1.  1.  1.  1.  1.  1.  1.  1.  1.  1.\n",
        "  1.  1.]\n",
        "Mean of MC, SIR = 2.66 , 2.66\n",
        "Relative standard deviation of MC to SIR = 1.14\n",
        "Total time = 2.089 minutes\n"
       ]
      }
     ],
     "prompt_number": 10
    },
    {
     "cell_type": "markdown",
     "metadata": {},
     "source": [
      "* Not doing any better."
     ]
    },
    {
     "cell_type": "markdown",
     "metadata": {},
     "source": [
      "* Change $f$.\n",
      "* Choose $f >0$. This gives higher weights to longer paths. "
     ]
    },
    {
     "cell_type": "code",
     "collapsed": false,
     "input": [
      "def f(x):\n",
      "    return np.exp(-x/2)\n",
      "def f_positive(x):\n",
      "    return f(x)*(f(x)>0)\n",
      "def f_negative(x):\n",
      "    return -f(x)*(f(x)<0)\n",
      "gamma_L, gamma_G = 2, 3\n",
      "m, k, M, rep = 20, 90, 10**5, 100\n",
      "compare_methods(m,k,S_0,sigma,mu,M,c_SIR_TARN,gamma_G,gamma_L,rep,kappa)"
     ],
     "language": "python",
     "metadata": {},
     "outputs": [
      {
       "output_type": "stream",
       "stream": "stdout",
       "text": [
        "m = 20 , k = 90 , M = 100000 , S_0 = 100.0 , sigma = 2.3 , mu = 0.01 , gamma_G = 3 , gamma_L = 2\n",
        "Average time for one run of MC, SIR = 0.294 , 0.353 sec.\n",
        "(Temperatures) kappa = [ 1.  1.  1.  1.  1.  1.  1.  1.  1.  1.  1.  1.  1.  1.  1.  1.  1.  1.\n",
        "  1.  1.]\n",
        "Mean of MC, SIR = 3.99 , 3.99\n",
        "Relative standard deviation of MC to SIR = 0.94\n",
        "Total time = 1.079 minutes\n"
       ]
      }
     ],
     "prompt_number": 11
    },
    {
     "cell_type": "markdown",
     "metadata": {},
     "source": [
      "* Doing same.."
     ]
    },
    {
     "cell_type": "code",
     "collapsed": false,
     "input": [
      "def f(x):\n",
      "    return x + np.sin(x)\n",
      "def f_positive(x):\n",
      "    return f(x)*(f(x)>0)\n",
      "def f_negative(x):\n",
      "    return -f(x)*(f(x)<0)\n",
      "gamma_L, gamma_G = 10, 15\n",
      "m, k, M, rep = 20, 90, 10**5, 100\n",
      "compare_methods(m,k,S_0,sigma,mu,M,c_SIR_TARN,gamma_G,gamma_L,rep,kappa)"
     ],
     "language": "python",
     "metadata": {},
     "outputs": [
      {
       "output_type": "stream",
       "stream": "stdout",
       "text": [
        "m = 20 , k = 90 , M = 100000 , S_0 = 100.0 , sigma = 2.3 , mu = 0.01 , gamma_G = 15 , gamma_L = 10\n",
        "Average time for one run of MC, SIR = 0.347 , 0.463 sec.\n",
        "(Temperatures) kappa = [ 1.  1.  1.  1.  1.  1.  1.  1.  1.  1.  1.  1.  1.  1.  1.  1.  1.  1.\n",
        "  1.  1.]\n",
        "Mean of MC, SIR = 11.11 , 11.11\n",
        "Relative standard deviation of MC to SIR = 1.04\n",
        "Total time = 1.35 minutes\n"
       ]
      }
     ],
     "prompt_number": 12
    },
    {
     "cell_type": "markdown",
     "metadata": {},
     "source": [
      "* Doing same."
     ]
    },
    {
     "cell_type": "markdown",
     "metadata": {},
     "source": [
      "* Change $f$:"
     ]
    },
    {
     "cell_type": "code",
     "collapsed": false,
     "input": [
      "def f(x):\n",
      "    return np.sin(x)\n",
      "def f_positive(x):\n",
      "    return f(x)*(f(x)>0)\n",
      "def f_negative(x):\n",
      "    return -f(x)*(f(x)<0)\n",
      "mu, sigma = 0.1, 3.1\n",
      "gamma_L, gamma_G = 5, 10\n",
      "m, k, M, rep = 20, 90, 10**5, 100\n",
      "compare_methods(m,k,S_0,sigma,mu,M,c_SIR_TARN,gamma_G,gamma_L,rep,kappa)"
     ],
     "language": "python",
     "metadata": {},
     "outputs": [
      {
       "output_type": "stream",
       "stream": "stdout",
       "text": [
        "m = 20 , k = 90 , M = 100000 , S_0 = 100.0 , sigma = 3.1 , mu = 0.1 , gamma_G = 10 , gamma_L = 5\n",
        "Average time for one run of MC, SIR = 0.32 , 0.366 sec.\n",
        "(Temperatures) kappa = [ 1.  1.  1.  1.  1.  1.  1.  1.  1.  1.  1.  1.  1.  1.  1.  1.  1.  1.\n",
        "  1.  1.]\n",
        "Mean of MC, SIR = 2.36 , 2.36\n",
        "Relative standard deviation of MC to SIR = 1.25\n",
        "Total time = 1.144 minutes\n"
       ]
      }
     ],
     "prompt_number": 13
    },
    {
     "cell_type": "markdown",
     "metadata": {},
     "source": [
      "* Not doing better."
     ]
    },
    {
     "cell_type": "markdown",
     "metadata": {},
     "source": [
      "### A particular example:\n",
      "* $S_{0} = 100$, $\\sigma = 8$, $\\mu = 0$.\n",
      "* $m = 24$, $k = 30$.\n",
      "* $\\Gamma_{G} = 200$, $\\Gamma_{L} = 100$.\n",
      "* $f(s)$ =\n",
      "  \\begin{array}{l l}\n",
      "    2(s-110) + 20 & \\quad \\text{ if } s > 110 \\\\\n",
      "   2(80-s) + 20 & \\quad \\text{ if } s < 90 \\\\\n",
      "   -20 & \\quad \\text{ if } 90 \\leq s \\leq 110\n",
      "  \\end{array} "
     ]
    },
    {
     "cell_type": "code",
     "collapsed": false,
     "input": [
      "def f(x):\n",
      "    s = np.exp(x)\n",
      "    return (2*(s-110)+20)*(s>110) + (2*(80-s)+20)*(s<90) - 20*(s<=110)*(s>=90)  \n",
      "def f_positive(x):\n",
      "    return f(x)*(f(x)>0)\n",
      "def f_negative(x):\n",
      "    return -f(x)*(f(x)<0)\n",
      "np.vectorize(f)\n",
      "np.vectorize(f_positive)\n",
      "np.vectorize(f_negative)"
     ],
     "language": "python",
     "metadata": {},
     "outputs": [
      {
       "metadata": {},
       "output_type": "pyout",
       "prompt_number": 14,
       "text": [
        "<numpy.lib.function_base.vectorize at 0x13191978>"
       ]
      }
     ],
     "prompt_number": 14
    },
    {
     "cell_type": "markdown",
     "metadata": {},
     "source": [
      "##### Constant temperatures:"
     ]
    },
    {
     "cell_type": "code",
     "collapsed": false,
     "input": [
      "S_0, m, k, M = np.log(100), 24, 30, 10**5\n",
      "gamma_L, gamma_G = 100, 200\n",
      "mu, sigma = 0, 8\n",
      "kappa, c_SIR_TARN, rep = np.ones(m), 0.5, 100\n",
      "compare_methods(m,k,S_0,sigma,mu,M,c_SIR_TARN,gamma_G,gamma_L,rep,kappa)"
     ],
     "language": "python",
     "metadata": {},
     "outputs": [
      {
       "output_type": "stream",
       "stream": "stdout",
       "text": [
        "m = 24 , k = 30 , M = 100000 , S_0 = 100.0 , sigma = 8 , mu = 0 , gamma_G = 200 , gamma_L = 100\n",
        "Average time for one run of MC, SIR = 0.51 , 0.632 sec.\n",
        "(Temperatures) kappa = [ 1.  1.  1.  1.  1.  1.  1.  1.  1.  1.  1.  1.  1.  1.  1.  1.  1.  1.\n",
        "  1.  1.  1.  1.  1.  1.]\n",
        "Mean of MC, SIR = 477.8 , 479.94\n",
        "Relative standard deviation of MC to SIR = 0.4\n",
        "Total time = 1.902 minutes\n"
       ]
      }
     ],
     "prompt_number": 15
    },
    {
     "cell_type": "markdown",
     "metadata": {},
     "source": [
      "##### Linearly increasing temperatures: "
     ]
    },
    {
     "cell_type": "code",
     "collapsed": false,
     "input": [
      "S_0, m, k, M = np.log(100), 24, 30, 10**5\n",
      "gamma_L, gamma_G = 100, 200\n",
      "mu, sigma = 0, 8\n",
      "kappa, c_SIR_TARN, rep = np.linspace(start=1/m,stop=1,num=m), 0.5, 100\n",
      "compare_methods(m,k,S_0,sigma,mu,M,c_SIR_TARN,gamma_G,gamma_L,rep,kappa)"
     ],
     "language": "python",
     "metadata": {},
     "outputs": [
      {
       "output_type": "stream",
       "stream": "stdout",
       "text": [
        "m = 24 , k = 30 , M = 100000 , S_0 = 100.0 , sigma = 8 , mu = 0 , gamma_G = 200 , gamma_L = 100\n",
        "Average time for one run of MC, SIR = 0.496 , 0.868 sec.\n",
        "(Temperatures) kappa = [ 0.04166667  0.08333333  0.125       0.16666667  0.20833333  0.25\n",
        "  0.29166667  0.33333333  0.375       0.41666667  0.45833333  0.5\n",
        "  0.54166667  0.58333333  0.625       0.66666667  0.70833333  0.75\n",
        "  0.79166667  0.83333333  0.875       0.91666667  0.95833333  1.        ]\n",
        "Mean of MC, SIR = 477.2 , 477.1\n",
        "Relative standard deviation of MC to SIR = 0.9\n",
        "Total time = 2.273 minutes\n"
       ]
      }
     ],
     "prompt_number": 16
    },
    {
     "cell_type": "markdown",
     "metadata": {},
     "source": [
      "##### Exponentially increasing temperatures:\n",
      "* We try increasing the $\\kappa$'s exponentially, where $\\kappa_{1} = \\delta$ and $\\kappa_{m} = 1$.\n",
      "* Choose \n",
      "$$ \\kappa_{n} = e^{ \\frac{ \\delta(m-n) }{ m-1 } } $$"
     ]
    },
    {
     "cell_type": "code",
     "collapsed": false,
     "input": [
      "S_0, m, k, M = np.log(100), 24, 30, 10**5\n",
      "gamma_L, gamma_G = 100, 200\n",
      "mu, sigma = 0, 8\n",
      "delta = 0.01\n",
      "kappa = np.exp(np.log(delta)*([m]*m - np.add(1,range(m)))/(m-1))\n",
      "c_SIR_TARN, rep = 0.5, 100\n",
      "compare_methods(m,k,S_0,sigma,mu,M,c_SIR_TARN,gamma_G,gamma_L,rep,kappa)"
     ],
     "language": "python",
     "metadata": {},
     "outputs": [
      {
       "output_type": "stream",
       "stream": "stdout",
       "text": [
        "m = 24 , k = 30 , M = 100000 , S_0 = 100.0 , sigma = 8 , mu = 0 , gamma_G = 200 , gamma_L = 100\n",
        "Average time for one run of MC, SIR = 0.507 , 0.907 sec.\n",
        "(Temperatures) kappa = [ 0.01        0.01221677  0.01492496  0.01823348  0.02227543  0.02721339\n",
        "  0.03324598  0.04061586  0.04961948  0.06061899  0.07405685  0.09047357\n",
        "  0.11052951  0.1350314   0.16496481  0.20153377  0.24620924  0.30078825\n",
        "  0.36746619  0.44892513  0.54844166  0.67001875  0.81854673  1.        ]\n",
        "Mean of MC, SIR = 476.95 , 478.01\n",
        "Relative standard deviation of MC to SIR = 1.01\n",
        "Total time = 2.357 minutes\n"
       ]
      }
     ],
     "prompt_number": 17
    },
    {
     "cell_type": "markdown",
     "metadata": {},
     "source": [
      "#### What if we resample at every step? \n",
      "##### Constant temperatures:"
     ]
    },
    {
     "cell_type": "code",
     "collapsed": false,
     "input": [
      "S_0, m, k, M = np.log(100), 24, 30, 10**5\n",
      "gamma_L, gamma_G = 100, 200\n",
      "mu, sigma = 0, 8\n",
      "kappa, c_SIR_TARN, rep = np.ones(m), 1.1, 100\n",
      "compare_methods(m,k,S_0,sigma,mu,M,c_SIR_TARN,gamma_G,gamma_L,rep,kappa)"
     ],
     "language": "python",
     "metadata": {},
     "outputs": [
      {
       "output_type": "stream",
       "stream": "stdout",
       "text": [
        "m = 24 , k = 30 , M = 100000\n",
        "S_0 = 4.60517018599 , sigma = 8 , mu = 0 , gamma_G = 200 , gamma_L = 100\n",
        "Average time for one run of MC, SIR = 0.506 , 1.308 sec.\n",
        "(Temperatures) kappa = [ 1.  1.  1.  1.  1.  1.  1.  1.  1.  1.  1.  1.  1.  1.  1.  1.  1.  1.\n",
        "  1.  1.  1.  1.  1.  1.]\n",
        "Mean of MC, SIR = 477.94 , 474.75\n",
        "Relative standard deviation of MC to SIR = 1.11\n",
        "Total time = 3.023 minutes\n"
       ]
      }
     ],
     "prompt_number": 38
    },
    {
     "cell_type": "markdown",
     "metadata": {},
     "source": [
      "##### Linearly increasing temperatures:"
     ]
    },
    {
     "cell_type": "code",
     "collapsed": false,
     "input": [
      "S_0, m, k, M = np.log(100), 24, 30, 10**5\n",
      "gamma_L, gamma_G = 100, 200\n",
      "mu, sigma = 0, 8\n",
      "kappa, c_SIR_TARN, rep = np.linspace(start=1/m,stop=1,num=m), 1.1, 100\n",
      "compare_methods(m,k,S_0,sigma,mu,M,c_SIR_TARN,gamma_G,gamma_L,rep,kappa)"
     ],
     "language": "python",
     "metadata": {},
     "outputs": [
      {
       "output_type": "stream",
       "stream": "stdout",
       "text": [
        "m = 24 , k = 30 , M = 100000\n",
        "S_0 = 4.60517018599 , sigma = 8 , mu = 0 , gamma_G = 200 , gamma_L = 100\n",
        "Average time for one run of MC, SIR = 0.539 , 1.752 sec.\n",
        "(Temperatures) kappa = [ 0.04166667  0.08333333  0.125       0.16666667  0.20833333  0.25\n",
        "  0.29166667  0.33333333  0.375       0.41666667  0.45833333  0.5\n",
        "  0.54166667  0.58333333  0.625       0.66666667  0.70833333  0.75\n",
        "  0.79166667  0.83333333  0.875       0.91666667  0.95833333  1.        ]\n",
        "Mean of MC, SIR = 475.93 , 471.0\n",
        "Relative standard deviation of MC to SIR = 0.71\n",
        "Total time = 3.818 minutes\n"
       ]
      }
     ],
     "prompt_number": 39
    },
    {
     "cell_type": "markdown",
     "metadata": {},
     "source": [
      "* As expected, resampling at every step is worse than adaptive resampling. "
     ]
    },
    {
     "cell_type": "markdown",
     "metadata": {},
     "source": [
      "### Plotting ESS's: \n",
      "#### (same example continued..)"
     ]
    },
    {
     "cell_type": "code",
     "collapsed": false,
     "input": [
      "def SIR_TARN_store_ESS(m,k,S_0,sigma,mu,M,c,gamma_G,gamma_L,kappa):\n",
      "    \n",
      "    G, L, f_S = np.zeros(M), np.zeros(M), np.zeros(M)\n",
      "    S, weights, survive = [S_0]*M, [1/M]*M, np.ones(M)\n",
      "    cut_off, normalizing_constant = c*M, 1.0\n",
      "    mean, sd = (mu-0.5*sigma**2)*k/360, sigma*np.sqrt(k/360)\n",
      "    ESS = [M]*m\n",
      "    \n",
      "    # First month:\n",
      "    S += mean + sd*norm.rvs(0,1,M)\n",
      "    G += f_positive(S)\n",
      "    L += f_negative(S)\n",
      "    f_S += f(S)                         # keeping track of the sum of the path\n",
      "    weights *= np.power(np.abs(f_S),kappa[0])\n",
      "    normalizing_constant *= np.sum(weights)\n",
      "    weights /= np.sum(weights)\n",
      "    ESS[0] = 1/np.sum(weights**2)\n",
      "    if(ESS[0]<cut_off):\n",
      "        resampling_index = np.random.choice(a=range(M),size=M,p=weights)\n",
      "        S, G, L = S[resampling_index], G[resampling_index], L[resampling_index]\n",
      "        f_S = f_S[resampling_index]\n",
      "        weights = [1/M]*M\n",
      "    survive *= (G<gamma_G)*(L<gamma_L)  # these are paths that are 'alive' after the first time step\n",
      "        \n",
      "    # Subsequent months:\n",
      "    for n in np.add(2,range(m-1)):      # n = 2, 3, ..., m\n",
      "        # computing weights:\n",
      "        weights /= np.power(np.abs(f_S),kappa[n-2])\n",
      "        S += (mean+sd*norm.rvs(0,1,M))*survive\n",
      "        f_S += f(S)*survive             # keeping track of the sum of the path\n",
      "        weights *= np.power(np.abs(f_S),kappa[n-1])\n",
      "        normalizing_constant *= np.sum(weights)\n",
      "        weights /= np.sum(weights)\n",
      "        # gain and loss processes:\n",
      "        G += f_positive(S)*survive\n",
      "        L += f_negative(S)*survive\n",
      "        # resampling:\n",
      "        ESS[n-1] = 1/np.sum(weights**2)\n",
      "        if(ESS[n-1]<cut_off):\n",
      "            resampling_index = np.random.choice(a=range(M),size=M,p=weights)\n",
      "            S, G, L = S[resampling_index], G[resampling_index], L[resampling_index] \n",
      "            survive, f_S = survive[resampling_index], f_S[resampling_index]\n",
      "            weights = [1/M]*M \n",
      "        survive *= (G<gamma_G)*(L<gamma_L) # these are paths that are 'alive' after the n-th time step\n",
      "            \n",
      "    return ESS"
     ],
     "language": "python",
     "metadata": {},
     "outputs": [],
     "prompt_number": 18
    },
    {
     "cell_type": "markdown",
     "metadata": {},
     "source": [
      "##### Constant temperatures:"
     ]
    },
    {
     "cell_type": "code",
     "collapsed": false,
     "input": [
      "S_0, m, k, M = np.log(100), 24, 30, 10**5\n",
      "gamma_L, gamma_G = 100, 200\n",
      "mu, sigma = 0, 8\n",
      "kappa, c_SIR_TARN = np.ones(m), 0.5\n",
      "\n",
      "ESS_trajectory = SIR_TARN_store_ESS(m,k,S_0,sigma,mu,M,c_SIR_TARN,gamma_G,gamma_L,kappa)\n",
      "plt.figure()\n",
      "plt.xlabel('Time')\n",
      "plt.ylabel('ESS')\n",
      "plt.title('Effective Sampe Size of SIR')\n",
      "plt.plot(ESS_trajectory)\n",
      "plt.grid(True)\n",
      "plt.show()"
     ],
     "language": "python",
     "metadata": {},
     "outputs": [
      {
       "metadata": {},
       "output_type": "display_data",
       "png": "[encoded data removed]",
       "text": [
        "<matplotlib.figure.Figure at 0xa202390>"
       ]
      }
     ],
     "prompt_number": 19
    },
    {
     "cell_type": "markdown",
     "metadata": {},
     "source": [
      "##### Linearly increasing temperatures:"
     ]
    },
    {
     "cell_type": "code",
     "collapsed": false,
     "input": [
      "S_0, m, k, M = np.log(100), 24, 30, 10**5\n",
      "gamma_L, gamma_G = 100, 200\n",
      "mu, sigma = 0, 8\n",
      "kappa, c_SIR_TARN = np.linspace(start=1/m,stop=1,num=m), 0.5\n",
      "\n",
      "ESS_trajectory = SIR_TARN_store_ESS(m,k,S_0,sigma,mu,M,c_SIR_TARN,gamma_G,gamma_L,kappa)\n",
      "plt.figure()\n",
      "plt.xlabel('Time')\n",
      "plt.ylabel('ESS')\n",
      "plt.title('Effective Sampe Size of SIR')\n",
      "plt.plot(ESS_trajectory)\n",
      "plt.grid(True)\n",
      "plt.show()"
     ],
     "language": "python",
     "metadata": {},
     "outputs": [
      {
       "metadata": {},
       "output_type": "display_data",
       "png": "[encoded data removed]",
       "text": [
        "<matplotlib.figure.Figure at 0x1322c7b8>"
       ]
      }
     ],
     "prompt_number": 20
    },
    {
     "cell_type": "markdown",
     "metadata": {},
     "source": [
      "##### Exponentially increasing temperatures: "
     ]
    },
    {
     "cell_type": "code",
     "collapsed": false,
     "input": [
      "S_0, m, k, M = np.log(100), 24, 30, 10**5\n",
      "gamma_L, gamma_G = 100, 200\n",
      "mu, sigma = 0, 8\n",
      "c_SIR_TARN = 0.5\n",
      "delta = 0.01\n",
      "kappa = np.exp(np.log(delta)*([m]*m - np.add(1,range(m)))/(m-1))\n",
      "\n",
      "ESS_trajectory = SIR_TARN_store_ESS(m,k,S_0,sigma,mu,M,c_SIR_TARN,gamma_G,gamma_L,kappa)\n",
      "plt.figure()\n",
      "plt.xlabel('Time')\n",
      "plt.ylabel('ESS')\n",
      "plt.title('Effective Sampe Size of SIR')\n",
      "plt.plot(ESS_trajectory)\n",
      "plt.grid(True)\n",
      "plt.show()"
     ],
     "language": "python",
     "metadata": {},
     "outputs": [
      {
       "metadata": {},
       "output_type": "display_data",
       "png": "[encoded data removed]",
       "text": [
        "<matplotlib.figure.Figure at 0x13966748>"
       ]
      }
     ],
     "prompt_number": 21
    },
    {
     "cell_type": "markdown",
     "metadata": {},
     "source": [
      "#### Observations:\n",
      "* SIR almost never resamples."
     ]
    },
    {
     "cell_type": "code",
     "collapsed": false,
     "input": [],
     "language": "python",
     "metadata": {},
     "outputs": []
    }
   ],
   "metadata": {}
  }
 ]
}