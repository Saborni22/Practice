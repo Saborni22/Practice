{
 "metadata": {
  "name": "",
  "signature": "sha256:a9d707841c91df1ff0851b48b8cac5fd6e4039c2fb203dafd52fc94a21be90a1"
 },
 "nbformat": 3,
 "nbformat_minor": 0,
 "worksheets": [
  {
   "cells": [
    {
     "cell_type": "markdown",
     "metadata": {},
     "source": [
      "#### (This uses temperature schemes and SMC samplers to try to price TARNS).\n",
      "### Idea:\n",
      "* We are going to use SMC samplers to estimate the price of TARNS. \n",
      "* First we are going to use SIR to sample from the sequence of densities \n",
      "$$ \\pi_{n}(s_{1:n}) \\propto | \\sum_{i=1}^{\\tau_{n}} f(s_{i})|^{\\kappa_{n}} p(s_{1:n}), \\text{ } n = 1, 2, \\ldots, m, $$\n",
      "where $ 0 \\leq \\kappa_{1} < \\ldots < \\kappa_{m} < 1 $ and the process densities are used as proposals.\n",
      "* Given these samples, we are going to use SMC samplers to sample from the sequence of target densities \n",
      "$$ \\tilde{\\pi}_{n}(s_{1:m}) \\propto | \\sum_{i=1}^{\\tau_{m}} f(s_{i})|^{\\kappa_{n}} p(s_{1:m}), \\text{ } n = 1, 2, \\ldots, p, $$\n",
      "where $ \\kappa_{m} = \\tilde{\\kappa}_{1} < \\ldots < \\tilde{\\kappa}_{p} = 1 $"
     ]
    },
    {
     "cell_type": "code",
     "collapsed": false,
     "input": [
      "# Calling libraries:\n",
      "%matplotlib inline  \n",
      "from __future__ import division\n",
      "import numpy as np\n",
      "import time\n",
      "from scipy.stats import norm, uniform\n",
      "from pylab import plot, show, legend\n",
      "import matplotlib.pyplot as plt\n",
      "plt.rcParams['figure.figsize'] = (10.0, 3.0) #for larger plots\n",
      "int = np.vectorize(int)"
     ],
     "language": "python",
     "metadata": {},
     "outputs": [],
     "prompt_number": 1
    },
    {
     "cell_type": "markdown",
     "metadata": {},
     "source": [
      "#### Naive MC:"
     ]
    },
    {
     "cell_type": "code",
     "collapsed": false,
     "input": [
      "# Naive Monte Carlo for TARN price:\n",
      "def naive_MC_TARN(m,k,S_0,sigma,mu,M,gamma_G,gamma_L):\n",
      "    S, G, L = [S_0]*M, np.zeros(M), np.zeros(M)\n",
      "    price, survive = np.zeros(M), np.ones(M)\n",
      "    mean, sd = (mu-0.5*sigma**2)*k/360, sigma*np.sqrt(k/360)\n",
      "    for n in range(m):\n",
      "        S += mean + sd*norm.rvs(0,1,M)\n",
      "        price += f(S)*survive\n",
      "        G += f_positive(S)*survive\n",
      "        L += f_negative(S)*survive\n",
      "        survive *= (G<gamma_G)*(L<gamma_L)     # these are the ones which are still 'alive' after time n\n",
      "    return np.mean(np.absolute(price)), np.sum(survive)"
     ],
     "language": "python",
     "metadata": {},
     "outputs": [],
     "prompt_number": 2
    },
    {
     "cell_type": "markdown",
     "metadata": {},
     "source": [
      "### SIR:\n",
      "\n",
      "* The incremental weights are \n",
      "$$ \\alpha_{n}(s_{1:n}) = \\frac{ | \\sum_{i=1}^{\\tau_{n}} f(s_{i}) |^{\\kappa_{n}} } { | \\sum_{i=1}^{\\tau_{n-1}} f(s_{i}) |^{\\kappa_{n-1}} } $$\n",
      "* Have to propagate each path forward till time $m$ and keep track of the stopping times for each path (going to need these later for SMC sampler)."
     ]
    },
    {
     "cell_type": "code",
     "collapsed": false,
     "input": [
      "# Propagating each path forward till time m\n",
      "# Keep track of stopping times.\n",
      "\n",
      "def SIR(m,k,S_0,sigma,mu,M,c,gamma_G,gamma_L,kappa):\n",
      "    \n",
      "    S = np.zeros((M,m+1))\n",
      "    S[:,0], weights = [S_0]*M, [1/M]*M\n",
      "    cut_off, normalizing_constant = M*c, 1.0\n",
      "    mean, sd = (mu-0.5*sigma**2)*k/360, sigma*np.sqrt(k/360)\n",
      "    G, L, survive = np.zeros(M), np.zeros(M), np.ones(M)\n",
      "    tau = np.ones(M)          # to keep track of stopping times # each path is alive for at least one time step\n",
      "    numerator, denominator = np.ones(M), np.ones(M)\n",
      "    \n",
      "    # First time step:\n",
      "    S[:,1] = S[:,0] + mean + sd*norm.rvs(0,1,M)\n",
      "    G += f_positive(S[:,1])\n",
      "    L += f_negative(S[:,1])\n",
      "    weights *= np.power(np.abs(f(S[:,1])),kappa[0])\n",
      "    normalizing_constant *= np.sum(weights)\n",
      "    weights /= np.sum(weights)\n",
      "    ESS = 1/np.sum(weights**2)\n",
      "    if(ESS<cut_off):\n",
      "        resampling_index = np.random.choice(a=range(M),size=M,p=weights)\n",
      "        S[:,1], G, L = S[resampling_index,1], G[resampling_index], L[resampling_index]\n",
      "        weights = [1/M]*M\n",
      "    survive *= (G<gamma_G)*(L<gamma_L)  # these are paths that are 'alive' after the first time step\n",
      "    survive = int(survive)\n",
      "    \n",
      "    # Subsequent time steps:\n",
      "    for n in np.add(2,range(m-1)):      # n = 2, 3, ..., m\n",
      "        tau += survive                  # stopping times \n",
      "        tau = int(tau)\n",
      "        S[:,n] = S[:,n-1] + mean + sd*norm.rvs(0,1,M)\n",
      "        G += f_positive(S[:,n])\n",
      "        L += f_negative(S[:,n])\n",
      "        # Running a look here, going to be slow\n",
      "        # How to do without the loop? \n",
      "        for l in range(M):\n",
      "            if(survive[l]==0):\n",
      "                numerator[l] = np.power(np.absolute(np.sum(f(S[l,1:(tau[l]+1)]))),kappa[n-1]-kappa[n-2])\n",
      "                denominator[l] = 1\n",
      "            if(survive[l]==1):\n",
      "                numerator[l] = np.power(np.absolute(np.sum(f(S[l,1:(n+1)]))),kappa[n-1])\n",
      "                denominator[l] = np.power(np.absolute(np.sum(f(S[l,1:n]))),kappa[n-2])\n",
      "        weights *= numerator/denominator\n",
      "        normalizing_constant *= np.sum(weights) \n",
      "        weights /= np.sum(weights)\n",
      "        ESS = 1/np.sum(weights**2)\n",
      "        if(ESS<cut_off):\n",
      "            resampling_index = np.random.choice(a=range(M),size=M,p=weights)\n",
      "            S[:,1:(n+1)], G, L = S[resampling_index,1:(n+1)], G[resampling_index], L[resampling_index]\n",
      "            survive, tau, weights = survive[resampling_index], tau[resampling_index], [1/M]*M\n",
      "        survive *= (G<gamma_G)*(L<gamma_L)\n",
      "        survive = int(survive)\n",
      "        \n",
      "    return S[:,1:(m+1)], tau, weights, normalizing_constant"
     ],
     "language": "python",
     "metadata": {},
     "outputs": [],
     "prompt_number": 3
    },
    {
     "cell_type": "markdown",
     "metadata": {},
     "source": [
      "##### Sanity check (is SIR code correct?):\n",
      "* Will compare with naive MC."
     ]
    },
    {
     "cell_type": "code",
     "collapsed": false,
     "input": [
      "# Naive Monte Carlo to compare with SIR:\n",
      "\n",
      "def naive_MC(m,k,S_0,sigma,mu,M,gamma_G,gamma_L):\n",
      "    S, G, L = [S_0]*M, np.zeros(M), np.zeros(M)\n",
      "    price, survive = np.zeros(M), np.ones(M)\n",
      "    mean, sd = (mu-0.5*sigma**2)*k/360, sigma*np.sqrt(k/360)\n",
      "    for n in range(m):\n",
      "        S += mean + sd*norm.rvs(0,1,M)\n",
      "        price += f(S)*survive\n",
      "        G += f_positive(S)*survive\n",
      "        L += f_negative(S)*survive\n",
      "        survive *= (G<gamma_G)*(L<gamma_L)     # these are the ones which are still 'alive' after time n\n",
      "    return np.mean(np.power(np.absolute(price),0.5))"
     ],
     "language": "python",
     "metadata": {},
     "outputs": [],
     "prompt_number": 4
    },
    {
     "cell_type": "code",
     "collapsed": false,
     "input": [
      "def f(x):\n",
      "    return x\n",
      "def f_positive(x):\n",
      "    return f(x)*(f(x)>0)\n",
      "def f_negative(x):\n",
      "    return -f(x)*(f(x)<0)\n",
      "np.vectorize(f)\n",
      "np.vectorize(f_positive)\n",
      "np.vectorize(f_negative)\n",
      "m, k, M = 5, 90, 10**4\n",
      "S_0, sigma, mu = np.log(100), 1.0, 0.0\n",
      "c_SIR, kappa = 0.5, np.linspace(start=0,stop=0.5,num=m)\n",
      "gamma_G, gamma_L = 10, 10\n",
      "SIR(m,k,S_0,sigma,mu,M,c_SIR,gamma_G,gamma_L,kappa)[3], naive_MC(m,k,S_0,sigma,mu,M,gamma_G,gamma_L)"
     ],
     "language": "python",
     "metadata": {},
     "outputs": [],
     "prompt_number": 5
    },
    {
     "cell_type": "code",
     "collapsed": false,
     "input": [
      "def f(x):\n",
      "    return x*np.exp(-x)\n",
      "def f_positive(x):\n",
      "    return f(x)*(f(x)>0)\n",
      "def f_negative(x):\n",
      "    return -f(x)*(f(x)<0)\n",
      "np.vectorize(f)\n",
      "np.vectorize(f_positive)\n",
      "np.vectorize(f_negative)\n",
      "m, k = 10, 90\n",
      "gamma_G, gamma_L = 8, 9\n",
      "kappa = np.linspace(start=0,stop=0.5,num=m)\n",
      "SIR(m,k,S_0,sigma,mu,M,c_SIR,gamma_G,gamma_L,kappa)[3], naive_MC(m,k,S_0,sigma,mu,M,gamma_G,gamma_L)"
     ],
     "language": "python",
     "metadata": {},
     "outputs": [
      {
       "metadata": {},
       "output_type": "pyout",
       "prompt_number": 9,
       "text": [
        "(0.94541337675619941, 0.95262954502972574)"
       ]
      }
     ],
     "prompt_number": 9
    },
    {
     "cell_type": "code",
     "collapsed": false,
     "input": [
      "def f(x):\n",
      "    return x*np.sin(x)\n",
      "def f_positive(x):\n",
      "    return f(x)*(f(x)>0)\n",
      "def f_negative(x):\n",
      "    return -f(x)*(f(x)<0)\n",
      "m, k = 10, 90\n",
      "gamma_G, gamma_L = 8, 9\n",
      "kappa = np.linspace(start=0,stop=0.5,num=m)\n",
      "SIR(m,k,S_0,sigma,mu,M,c_SIR,gamma_G,gamma_L,kappa)[3], naive_MC(m,k,S_0,sigma,mu,M,gamma_G,gamma_L)"
     ],
     "language": "python",
     "metadata": {},
     "outputs": []
    },
    {
     "cell_type": "markdown",
     "metadata": {},
     "source": [
      "* Okay, so SIR code works."
     ]
    },
    {
     "cell_type": "markdown",
     "metadata": {},
     "source": [
      "### SMC sampler:\n",
      "* Incremental weights are:\n",
      "$$ \\alpha_{n}^{(l)}(x_{n-1}^{(l)}) = \\frac{ \\tilde{\\pi}_{n}( x_{n-1}^{(l)} ) }{ \\tilde{\\pi}_{n-1}(x_{n-1}^{(l)}) } = \\frac{ | \\sum_{i=1}^{\\tau_{m,n-1}^{(l)}} f(s_{i,n-1}^{(l)}) |^{\\tilde{\\kappa}_{n}} } { | \\sum_{i=1}^{\\tau_{m,n-1}^{(l)}} f(s_{i,n-1}^{(l)}) |^{\\tilde{\\kappa}_{n-1}} }, \\text{ } n \\geq 1, $$\n",
      "where $ x_{n}^{(l)} = s_{1:m,n}^{(l)}$, $n = 1, 2, \\ldots, p$ and $l = 1, 2, \\ldots, M$.\n",
      "* $\\tau_{m,n-1}^{(l)}$ is the stopping time for the particle $x_{n-1}^{(l)} = s^{(l)}_{1:m,n-1}$."
     ]
    },
    {
     "cell_type": "code",
     "collapsed": false,
     "input": [
      "# SMC samplers: \n",
      "\n",
      "# We work on a log scale for densities because they tend to be tiny.\n",
      "\n",
      "# p(s_{1:m}): \n",
      "# This is the density of the path of a Brownian Motion starting at S_0\n",
      "# (Brownian motion under our dynamics)\n",
      "# We consider the log of the density\n",
      "def log_path_density(sigma,mu,s_0,path):\n",
      "    path = np.append(s_0,path)\n",
      "    N = np.size(path)\n",
      "    mean = path[0:(N-1)] + (mu-0.5*sigma**2)*k/360.0\n",
      "    sd = sigma*np.sqrt(k/360.0)\n",
      "    return np.sum(np.log(norm.pdf(path[1:N],loc=mean,scale=sd)))\n",
      "np.vectorize(log_path_density)"
     ],
     "language": "python",
     "metadata": {},
     "outputs": [
      {
       "metadata": {},
       "output_type": "pyout",
       "prompt_number": 4,
       "text": [
        "<numpy.lib.function_base.vectorize at 0xa0f8fd0>"
       ]
      }
     ],
     "prompt_number": 4
    },
    {
     "cell_type": "code",
     "collapsed": false,
     "input": [
      "# This is a function that gives the stopping time of a path \n",
      "# with respect to barriers gamma_L and gamma_G\n",
      "# (assume that the path does not contain S_0 and is of length m)\n",
      "\n",
      "def stopping_time(path):\n",
      "    G, L, tau, survive = 0, 0, 1, 1\n",
      "    G, L = np.asarray(G), np.asarray(L)\n",
      "    m = np.size(path)\n",
      "    while((survive==1)*(tau<m)==1):\n",
      "        G = G + f_positive(path[tau-1])\n",
      "        L = L + f_negative(path[tau-1])\n",
      "        survive *= (G<gamma_G)*(L<gamma_L)\n",
      "        tau += survive\n",
      "    return tau"
     ],
     "language": "python",
     "metadata": {},
     "outputs": [],
     "prompt_number": 9
    },
    {
     "cell_type": "code",
     "collapsed": false,
     "input": [
      "# Symmetric random walk Metropolis-Hastings kernel:\n",
      "# (No new array created)\n",
      "# Also returns the stopping time for the propagated particle\n",
      "# 'original' is of length m an it does not contin S_0\n",
      "def propagate(original,proposed,n,tau_original):\n",
      "    proposed = norm.rvs(loc=original,scale=1.0) \n",
      "    tau_proposed = stopping_time(proposed)\n",
      "    a = np.power(np.absolute(np.sum(f(proposed[0:tau_proposed]))/np.sum(f(original[0:tau_original]))),kappa_tilde[n])\n",
      "    b = np.exp(log_path_density(sigma,mu,S_0,proposed)-log_path_density(sigma,mu,S_0,original))\n",
      "    MH_ratio = a*b\n",
      "    acceptance_probability = 1.0\n",
      "    if(MH_ratio<1.0):\n",
      "        acceptance_probability = MH_ratio\n",
      "    u = uniform.rvs(size=1)\n",
      "    if(u<acceptance_probability):\n",
      "        original, tau_original = proposed, tau_proposed"
     ],
     "language": "python",
     "metadata": {},
     "outputs": [],
     "prompt_number": 6
    },
    {
     "cell_type": "code",
     "collapsed": false,
     "input": [
      "# Defining the SMC function:\n",
      "# working on path-space\n",
      "\n",
      "def SMC_TARN(m,k,S_0,sigma,mu,M,c_SIR,c_SMC,p,gamma_L,gamma_G,kappa,kappa_tilde):\n",
      "    # We first run SIR with M particles:\n",
      "    S, tau, weights, SIR_normalizing_constant = SIR(m,k,S_0,sigma,mu,M,c_SIR,gamma_G,gamma_L,kappa)\n",
      "    # Next define some necessary things:\n",
      "    cut_off, normalizing_constant = c_SMC*M, SIR_normalizing_constant\n",
      "    incremental_weights = np.zeros(M)\n",
      "    proposed = np.zeros(M)                                               \n",
      "    # (this is a dummy variable defined so that we don't need to define a new array everytime we propagate rows of S)\n",
      "    for n in np.add(1,range(p)):                                              # n = 1, 2, ..., p\n",
      "        # Propagating and computing incremental weights:\n",
      "        # (hopefully we shall later be able to do without the loop over i)\n",
      "        for l in range(M):                                                              \n",
      "            incremental_weights[l] = np.power(np.absolute(np.sum(f(S[l,0:tau[l]]))),kappa_tilde[n]-kappa_tilde[n-1])\n",
      "            propagate(S[l,:],proposed,n,tau[l])\n",
      "        weights *= incremental_weights\n",
      "        normalizing_constant *= np.sum(weights) \n",
      "        weights /= np.sum(weights)\n",
      "        ESS = 1/np.sum(weights**2)\n",
      "        if(ESS<cut_off):\n",
      "            S = S[np.random.choice(a=range(M),size=M,p=weights),:]\n",
      "            weights = [1/M]*M \n",
      "    return normalizing_constant "
     ],
     "language": "python",
     "metadata": {},
     "outputs": [],
     "prompt_number": 7
    },
    {
     "cell_type": "markdown",
     "metadata": {},
     "source": [
      "##### Sanity check (is SMC sampler correct?):\n",
      "* Compare with naive MC."
     ]
    },
    {
     "cell_type": "code",
     "collapsed": false,
     "input": [
      "def f(x):\n",
      "    return x\n",
      "def f_positive(x):\n",
      "    return f(x)*(f(x)>0)\n",
      "def f_negative(x):\n",
      "    return -f(x)*(f(x)<0)\n",
      "m, k, M, p = 5, 90, 10**4, 10\n",
      "S_0, sigma, mu = np.log(100), 1.0, 0.0\n",
      "c_SIR, c_SMC = 0.5, 0.5\n",
      "gamma_L, gamma_G = 10, 10\n",
      "kappa, kappa_tilde = np.linspace(start=0,stop=0.5,num=m), np.linspace(start=0.5,stop=1.0,num=p+1)\n",
      "naive_MC_TARN(m,k,S_0,sigma,mu,M,gamma_G,gamma_L)[0], SMC_TARN(m,k,S_0,sigma,mu,M,c_SIR,c_SMC,p,gamma_L,gamma_G,kappa,kappa_tilde)"
     ],
     "language": "python",
     "metadata": {},
     "outputs": [
      {
       "metadata": {},
       "output_type": "pyout",
       "prompt_number": 10,
       "text": [
        "(12.408324251371624, 12.432430583300549)"
       ]
      }
     ],
     "prompt_number": 10
    },
    {
     "cell_type": "code",
     "collapsed": false,
     "input": [
      "def f(x):\n",
      "    return x*np.exp(-x/2)\n",
      "def f_positive(x):\n",
      "    return f(x)*(f(x)>0)\n",
      "def f_negative(x):\n",
      "    return -f(x)*(f(x)<0)\n",
      "m, k, M, p = 10, 90, 10**4, 10\n",
      "gamma_L, gamma_G = 5, 2.5\n",
      "kappa, kappa_tilde = np.linspace(start=0,stop=0.5,num=m), np.linspace(start=0.5,stop=1.0,num=p+1)\n",
      "naive_MC_TARN(m,k,S_0,sigma,mu,M,gamma_G,gamma_L)[0], SMC_TARN(m,k,S_0,sigma,mu,M,c_SIR,c_SMC,p,gamma_L,gamma_G,kappa,kappa_tilde)"
     ],
     "language": "python",
     "metadata": {},
     "outputs": [
      {
       "metadata": {},
       "output_type": "pyout",
       "prompt_number": 11,
       "text": [
        "(2.7797859389182986, 2.7807959847908088)"
       ]
      }
     ],
     "prompt_number": 11
    },
    {
     "cell_type": "code",
     "collapsed": false,
     "input": [
      "def f(x):\n",
      "    return np.exp(x/4)*np.cos(x)/(2+np.sin(x))\n",
      "def f_positive(x):\n",
      "    return f(x)*(f(x)>0)\n",
      "def f_negative(x):\n",
      "    return -f(x)*(f(x)<0)\n",
      "m, k, M, p = 10, 90, 10**4, 10\n",
      "gamma_L, gamma_G = 5, 2.5\n",
      "kappa, kappa_tilde = np.linspace(start=0,stop=0.5,num=m), np.linspace(start=0.5,stop=1.0,num=p+1)\n",
      "naive_MC_TARN(m,k,S_0,sigma,mu,M,gamma_G,gamma_L)[0], SMC_TARN(m,k,S_0,sigma,mu,M,c_SIR,c_SMC,p,gamma_L,gamma_G,kappa,kappa_tilde)"
     ],
     "language": "python",
     "metadata": {},
     "outputs": [
      {
       "metadata": {},
       "output_type": "pyout",
       "prompt_number": 12,
       "text": [
        "(4.2762878963253392, 4.2860430889410459)"
       ]
      }
     ],
     "prompt_number": 12
    },
    {
     "cell_type": "markdown",
     "metadata": {},
     "source": [
      "* The code seems correct."
     ]
    },
    {
     "cell_type": "markdown",
     "metadata": {},
     "source": [
      "### Now for some variance comparison:"
     ]
    },
    {
     "cell_type": "code",
     "collapsed": false,
     "input": [
      "def compare_methods(m,k,S_0,sigma,mu,M,gamma_G,gamma_L,rep,kappa,kappa_tilde):\n",
      "    MC_TARN_estimate, SMC_sampler_TARN_estimate = np.zeros(rep), np.zeros(rep)\n",
      "    start_time = time.clock()\n",
      "    for r in range(rep):\n",
      "        MC_TARN_estimate[r] = naive_MC_TARN(m,k,S_0,sigma,mu,M,gamma_G,gamma_L)[0]\n",
      "    MC_time = time.clock() - start_time \n",
      "    start_time = time.clock()\n",
      "    for r in range(rep):\n",
      "        SMC_sampler_TARN_estimate[r] = SMC_TARN(m,k,S_0,sigma,mu,M,c_SIR,c_SMC,p,gamma_L,gamma_G,kappa,kappa_tilde)\n",
      "    SMC_sampler_time = time.clock() - start_time \n",
      "    print \"m =\", m, \", k =\", k, \", M =\", M, \", S_0 =\", S_0, \", sigma =\", sigma, \", mu =\", mu, \", gamma_G =\", gamma_G, \", gamma_L =\", gamma_L\n",
      "    print \"Average time for one run of MC, SMC =\", round(MC_time/rep,3), \",\", round(SMC_sampler_time/rep,3), \"sec.\"\n",
      "    print \"Mean of MC, SMC =\", round(np.mean(MC_TARN_estimate),2), \",\" , round(np.mean(SMC_sampler_TARN_estimate),2)\n",
      "    print \"Relative standard deviation of MC to SMC =\", round(np.std(MC_TARN_estimate)/np.std(SMC_sampler_TARN_estimate),2)\n",
      "    print \"Total time for\", rep, \"repetitions =\", round((MC_time+SMC_sampler_time)/60,1), \"minutes\""
     ],
     "language": "python",
     "metadata": {},
     "outputs": [],
     "prompt_number": 33
    },
    {
     "cell_type": "markdown",
     "metadata": {},
     "source": [
      "##### Linearly increasing temperatures (for both SIR and SMC):"
     ]
    },
    {
     "cell_type": "code",
     "collapsed": false,
     "input": [
      "# Trial run: \n",
      "def f(x):\n",
      "    return x\n",
      "def f_positive(x):\n",
      "    return f(x)*(f(x)>0)\n",
      "def f_negative(x):\n",
      "    return -f(x)*(f(x)<0)\n",
      "m, k, M, p, rep = 5, 90, 10**3, 10, 2\n",
      "S_0, sigma, mu = np.log(100), 1.0, 0.0\n",
      "c_SIR, c_SMC = 0.5, 0.5\n",
      "gamma_L, gamma_G = 10, 10\n",
      "kappa, kappa_tilde = np.linspace(start=0,stop=0.5,num=m), np.linspace(start=0.5,stop=1.0,num=p+1)\n",
      "compare_methods(m,k,S_0,sigma,mu,M,gamma_G,gamma_L,rep,kappa,kappa_tilde)"
     ],
     "language": "python",
     "metadata": {},
     "outputs": [
      {
       "output_type": "stream",
       "stream": "stdout",
       "text": [
        "m = 5 , k = 90 , M = 1000 , S_0 = 4.60517018599 , sigma = 1.0 , mu = 0.0 , gamma_G = 10 , gamma_L = 10\n",
        "Average time for one run of MC, SIR = 0.001 , 2.543 sec.\n",
        "Mean of MC, SIR = 12.41 , 12.44\n",
        "Relative standard deviation of MC to SMC = 9.2\n",
        "Total time for 2 repetitions = 0.1 minutes\n"
       ]
      }
     ],
     "prompt_number": 29
    },
    {
     "cell_type": "markdown",
     "metadata": {},
     "source": [
      "##### Linearly increasing temperatures (for both SIR and SMC):"
     ]
    },
    {
     "cell_type": "code",
     "collapsed": false,
     "input": [
      "# Real run \n",
      "def f(x):\n",
      "    return x\n",
      "def f_positive(x):\n",
      "    return f(x)*(f(x)>0)\n",
      "def f_negative(x):\n",
      "    return -f(x)*(f(x)<0)\n",
      "m, k, M, p, rep = 10, 90, 10**4, 10, 50\n",
      "S_0, sigma, mu = np.log(100), 1.0, 0.0\n",
      "c_SIR, c_SMC = 0.5, 0.5\n",
      "gamma_L, gamma_G = 4, 3\n",
      "kappa, kappa_tilde = np.linspace(start=0,stop=0.5,num=m), np.linspace(start=0.5,stop=1.0,num=p+1)\n",
      "compare_methods(m,k,S_0,sigma,mu,M,gamma_G,gamma_L,rep,kappa,kappa_tilde)"
     ],
     "language": "python",
     "metadata": {},
     "outputs": [
      {
       "output_type": "stream",
       "stream": "stdout",
       "text": [
        "m = 10 , k = 90 , M = 10000 , S_0 = 4.60517018599 , sigma = 1.0 , mu = 0.0 , gamma_G = 3 , gamma_L = 4\n",
        "Average time for one run of MC, SIR = 0.007 , 26.609 sec.\n",
        "Mean of MC, SIR = 4.48 , 4.48\n",
        "Relative standard deviation of MC to SMC = 1.08\n",
        "Total time for 50 repetitions = 22.2 minutes\n"
       ]
      }
     ],
     "prompt_number": 30
    },
    {
     "cell_type": "markdown",
     "metadata": {},
     "source": [
      "* Doing same as naive MC."
     ]
    },
    {
     "cell_type": "markdown",
     "metadata": {},
     "source": [
      "### Moving on to a particular example:\n",
      "* $S_{0} = 100$, $\\sigma = 8$, $\\mu = 0$.\n",
      "* $m = 24$, $k = 30$.\n",
      "* $\\Gamma_{G} = 200$, $\\Gamma_{L} = 100$.\n",
      "* $f(s)$ =\n",
      "  \\begin{array}{l l}\n",
      "    2(s-110) + 20 & \\quad \\text{ if } s > 110 \\\\\n",
      "   2(80-s) + 20 & \\quad \\text{ if } s < 90 \\\\\n",
      "   -20 & \\quad \\text{ if } 90 \\leq s \\leq 110\n",
      "  \\end{array} "
     ]
    },
    {
     "cell_type": "code",
     "collapsed": false,
     "input": [
      "def f(x):\n",
      "    s = np.exp(x)\n",
      "    return (2*(s-110)+20)*(s>110) + (2*(80-s)+20)*(s<90) - 20*(s<=110)*(s>=90)  \n",
      "def f_positive(x):\n",
      "    return f(x)*(f(x)>0)\n",
      "def f_negative(x):\n",
      "    return -f(x)*(f(x)<0)\n",
      "np.vectorize(f)\n",
      "np.vectorize(f_positive)\n",
      "np.vectorize(f_negative)"
     ],
     "language": "python",
     "metadata": {},
     "outputs": [
      {
       "metadata": {},
       "output_type": "pyout",
       "prompt_number": 31,
       "text": [
        "<numpy.lib.function_base.vectorize at 0xa1df630>"
       ]
      }
     ],
     "prompt_number": 31
    },
    {
     "cell_type": "markdown",
     "metadata": {},
     "source": [
      "##### Linearly increasing temperatures (for both SIR and SMC):"
     ]
    },
    {
     "cell_type": "code",
     "collapsed": false,
     "input": [
      "m, k, M, p, rep = 24, 30, 10**4, 20, 50\n",
      "S_0, sigma, mu = np.log(100), 1.0, 0.0\n",
      "c_SIR, c_SMC = 0.5, 0.5\n",
      "gamma_L, gamma_G = 100, 200\n",
      "kappa, kappa_tilde = np.linspace(start=0,stop=0.5,num=m), np.linspace(start=0.5,stop=1.0,num=p+1)\n",
      "compare_methods(m,k,S_0,sigma,mu,M,gamma_G,gamma_L,rep,kappa,kappa_tilde)"
     ],
     "language": "python",
     "metadata": {},
     "outputs": [
      {
       "output_type": "stream",
       "stream": "stdout",
       "text": [
        "m = 24 , k = 30 , M = 10000 , S_0 = 4.60517018599 , sigma = 1.0 , mu = 0.0 , gamma_G = 200 , gamma_L = 100\n",
        "Average time for one run of MC, SIR = 0.049 , 92.41 sec.\n",
        "Mean of MC, SIR = 234.65 , 234.74\n",
        "Relative standard deviation of MC to SMC = 0.93\n",
        "Total time for 50 repetitions = 77.0 minutes\n"
       ]
      }
     ],
     "prompt_number": 32
    },
    {
     "cell_type": "markdown",
     "metadata": {},
     "source": [
      "#### ESS and average acceptance rate:\n",
      "* We plot the ESS for the SIR algorithm and the SMC algorithm.\n",
      "* Also plot the average acceptance rate of the MH step used inside the SMC sampler."
     ]
    },
    {
     "cell_type": "code",
     "collapsed": false,
     "input": [
      "# Propagating each path forward till time m\n",
      "# Keep track of stopping times.\n",
      "# keeping track of ESS's now.\n",
      "\n",
      "def SIR_store_ESS(m,k,S_0,sigma,mu,M,c,gamma_G,gamma_L,kappa):\n",
      "    \n",
      "    S = np.zeros((M,m+1))\n",
      "    S[:,0], weights = [S_0]*M, [1/M]*M\n",
      "    cut_off, normalizing_constant = M*c, 1.0\n",
      "    mean, sd = (mu-0.5*sigma**2)*k/360, sigma*np.sqrt(k/360)\n",
      "    G, L, survive = np.zeros(M), np.zeros(M), np.ones(M)\n",
      "    tau = np.ones(M)          # to keep track of stopping times # each path is alive for at least one time step\n",
      "    numerator, denominator, ESS = np.ones(M), np.ones(M), np.ones(m)\n",
      "    \n",
      "    # First time step:\n",
      "    S[:,1] = S[:,0] + mean + sd*norm.rvs(0,1,M)\n",
      "    G += f_positive(S[:,1])\n",
      "    L += f_negative(S[:,1])\n",
      "    weights *= np.power(np.abs(f(S[:,1])),kappa[0])\n",
      "    normalizing_constant *= np.sum(weights)\n",
      "    weights /= np.sum(weights)\n",
      "    ESS[0] = 1/np.sum(weights**2)\n",
      "    if(ESS[0]<cut_off):\n",
      "        resampling_index = np.random.choice(a=range(M),size=M,p=weights)\n",
      "        S[:,1], G, L = S[resampling_index,1], G[resampling_index], L[resampling_index]\n",
      "        weights = [1/M]*M\n",
      "    survive *= (G<gamma_G)*(L<gamma_L)  # these are paths that are 'alive' after the first time step\n",
      "    survive = int(survive)\n",
      "    \n",
      "    # Subsequent time steps:\n",
      "    for n in np.add(2,range(m-1)):      # n = 2, 3, ..., m\n",
      "        tau += survive                  # stopping times \n",
      "        tau = int(tau)\n",
      "        S[:,n] = S[:,n-1] + mean + sd*norm.rvs(0,1,M)\n",
      "        G += f_positive(S[:,n])\n",
      "        L += f_negative(S[:,n])\n",
      "        # Running a look here, going to be slow\n",
      "        # How to do without the loop? \n",
      "        for l in range(M):\n",
      "            if(survive[l]==0):\n",
      "                numerator[l] = np.power(np.absolute(np.sum(f(S[l,1:(tau[l]+1)]))),kappa[n-1]-kappa[n-2])\n",
      "                denominator[l] = 1\n",
      "            if(survive[l]==1):\n",
      "                numerator[l] = np.power(np.absolute(np.sum(f(S[l,1:(n+1)]))),kappa[n-1])\n",
      "                denominator[l] = np.power(np.absolute(np.sum(f(S[l,1:n]))),kappa[n-2])\n",
      "        weights *= numerator/denominator\n",
      "        normalizing_constant *= np.sum(weights) \n",
      "        weights /= np.sum(weights)\n",
      "        ESS[n-1] = 1/np.sum(weights**2)\n",
      "        if(ESS[n-1]<cut_off):\n",
      "            resampling_index = np.random.choice(a=range(M),size=M,p=weights)\n",
      "            S[:,1:(n+1)], G, L = S[resampling_index,1:(n+1)], G[resampling_index], L[resampling_index]\n",
      "            survive, tau, weights = survive[resampling_index], tau[resampling_index], [1/M]*M\n",
      "        survive *= (G<gamma_G)*(L<gamma_L)\n",
      "        survive = int(survive)\n",
      "        \n",
      "    return S[:,1:(m+1)], tau, weights, normalizing_constant, ESS"
     ],
     "language": "python",
     "metadata": {},
     "outputs": [],
     "prompt_number": 34
    },
    {
     "cell_type": "code",
     "collapsed": false,
     "input": [
      "# MH step for SMC sampler\n",
      "# Using a symmetric random walk\n",
      "# storing acceptance rate\n",
      "\n",
      "def propagate(original,n,tau_original):\n",
      "    proposed = norm.rvs(loc=original,scale=1.0) \n",
      "    tau_proposed, survive = 1, 1\n",
      "    G, L = 0, 0\n",
      "    accept = 0\n",
      "    while((survive>0)*(tau_proposed<m)==1): # calculating the stopping time for the proposed particle\n",
      "                                            # (how to do more efficiently?)\n",
      "        G += f_positive(original[tau_proposed])\n",
      "        L += f_negative(original[tau_proposed])\n",
      "        survive *= (G<gamma_G)*(L<gamma_L)\n",
      "        tau_proposed += 1\n",
      "    a = np.power(np.absolute(np.sum(f(proposed[0:tau_proposed]))/np.sum(f(original[0:tau_original]))),kappa_tilde[n])\n",
      "    b = np.exp(log_path_density(sigma,mu,S_0,proposed)-log_path_density(sigma,mu,S_0,original))\n",
      "    MH_ratio = a*b\n",
      "    acceptance_probability = 1.0\n",
      "    if(MH_ratio<1.0):\n",
      "        acceptance_probability = MH_ratio\n",
      "    u = uniform.rvs(size=1)\n",
      "    if(u<acceptance_probability):\n",
      "        original, tau_original, accept = proposed, tau_proposed, 1\n",
      "    \n",
      "    return original, tau_original, accept"
     ],
     "language": "python",
     "metadata": {},
     "outputs": [],
     "prompt_number": 35
    },
    {
     "cell_type": "code",
     "collapsed": false,
     "input": [
      "# Defining the SMC function:\n",
      "# working on path-space\n",
      "# keeping track of ESS and acceptance rate\n",
      "\n",
      "def SMC_TARN_store_ESS_acceptance_probability(m,k,S_0,sigma,mu,M,c_SIR,c_SMC,p,gamma_L,gamma_G,kappa,kappa_tilde):\n",
      "    \n",
      "    S, tau, weights, SIR_normalizing_constant, ESS_SIR = SIR_store_ESS(m,k,S_0,sigma,mu,M,c_SIR,gamma_G,gamma_L,kappa)\n",
      "    cut_off, normalizing_constant = c_SMC*M, SIR_normalizing_constant\n",
      "    incremental_weights, ESS_SMC, acceptance_rate = np.zeros(M), np.ones(p), np.ones(p)           \n",
      "    accept = np.zeros(M)\n",
      "    \n",
      "    for n in np.add(1,range(p)):                                              # n = 1, 2, ..., p\n",
      "        for l in range(M):                                                              \n",
      "            incremental_weights[l] = np.power(np.absolute(np.sum(f(S[l,0:tau[l]]))),kappa_tilde[n]-kappa_tilde[n-1])\n",
      "            S[l,:], tau[l], accept[l] = propagate(S[l,:],n,tau[l])\n",
      "        acceptance_rate[n-1] = np.mean(accept)\n",
      "        \n",
      "        weights *= incremental_weights\n",
      "        normalizing_constant *= np.sum(weights) \n",
      "        weights /= np.sum(weights)\n",
      "        ESS_SMC[n-1] = 1/np.sum(weights**2)\n",
      "        if(ESS_SMC[n-1]<cut_off):\n",
      "            S = S[np.random.choice(a=range(M),size=M,p=weights),:]\n",
      "            weights = [1/M]*M \n",
      "        \n",
      "    return normalizing_constant, ESS_SIR, ESS_SMC, acceptance_rate"
     ],
     "language": "python",
     "metadata": {},
     "outputs": [],
     "prompt_number": 36
    },
    {
     "cell_type": "code",
     "collapsed": false,
     "input": [
      "S_0, m, k, M = np.log(100), 24, 30, 10**5\n",
      "gamma_L, gamma_G = 100, 200\n",
      "mu, sigma = 0, 8\n",
      "kappa, c_SIR, c_SMC = np.ones(m), 0.5, 0.5\n",
      "p = 30\n",
      "kappa_tilde = np.linspace(start=0.5,stop=1.0,num=p+1)"
     ],
     "language": "python",
     "metadata": {},
     "outputs": [],
     "prompt_number": 37
    },
    {
     "cell_type": "code",
     "collapsed": false,
     "input": [
      "run_SMC = SMC_TARN_store_ESS_acceptance_probability(m,k,S_0,sigma,mu,M,c_SIR,c_SMC,p,gamma_L,gamma_G,kappa,kappa_tilde)\n",
      "ESS_SIR, ESS_SMC, acceptance_rate = run_SMC[1], run_SMC[2], run_SMC[3]\n",
      "\n",
      "plt.figure()\n",
      "plt.xlabel('$Time$ (in $1, 2, \\ldots, m$)')\n",
      "plt.ylabel('ESS')\n",
      "plt.title('ESS for SIR')\n",
      "plt.plot(ESS_SIR)\n",
      "plt.grid(True)\n",
      "plt.show()\n",
      "\n",
      "plt.figure()\n",
      "plt.xlabel('$n$ (in $1, 2, \\ldots, p$)')\n",
      "plt.ylabel('ESS')\n",
      "plt.title('ESS for SMC')\n",
      "plt.plot(ESS_SMC)\n",
      "plt.grid(True)\n",
      "plt.show()\n",
      "\n",
      "plt.figure()\n",
      "plt.xlabel('$n$ (in $1, 2, \\ldots, m$)')\n",
      "plt.ylabel('Acceptance rate')\n",
      "plt.title('Average acceptance rate for MH step within SMC')\n",
      "plt.plot(acceptance_rate)\n",
      "plt.grid(True)\n",
      "plt.show()"
     ],
     "language": "python",
     "metadata": {},
     "outputs": [
      {
       "metadata": {},
       "output_type": "display_data",
       "png": "[encoded data removed]",
       "text": [
        "<matplotlib.figure.Figure at 0xa1df208>"
       ]
      },
      {
       "metadata": {},
       "output_type": "display_data",
       "png": "[encoded data removed]",
       "text": [
        "<matplotlib.figure.Figure at 0x9f4dfd0>"
       ]
      },
      {
       "metadata": {},
       "output_type": "display_data",
       "png": "[encoded data removed]",
       "text": [
        "<matplotlib.figure.Figure at 0x13863898>"
       ]
      }
     ],
     "prompt_number": 39
    },
    {
     "cell_type": "markdown",
     "metadata": {},
     "source": [
      "* These say that the ESS for both SIR and SMC is remarkably stable. SIR never resamples and SMC only resamples once. \n",
      "* SIR never resampling means that doing SIR is the same as doing nive MC.\n",
      "* The acceptance rate for the MH step is also high, more than 85% on average."
     ]
    },
    {
     "cell_type": "markdown",
     "metadata": {},
     "source": [
      "#### Variance for our particular example:"
     ]
    },
    {
     "cell_type": "code",
     "collapsed": false,
     "input": [],
     "language": "python",
     "metadata": {},
     "outputs": []
    }
   ],
   "metadata": {}
  }
 ]
}