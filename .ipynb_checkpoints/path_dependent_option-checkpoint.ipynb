{
 "metadata": {
  "name": "",
  "signature": "sha256:35037822d2b76f2c68a1f38c79e35a438964cdf033a3203fa31bdb488fdb86c9"
 },
 "nbformat": 3,
 "nbformat_minor": 0,
 "worksheets": [
  {
   "cells": [
    {
     "cell_type": "markdown",
     "metadata": {},
     "source": [
      "### Model dynamics:\n",
      "* Consider an option price which evolves according to \n",
      "$$ \\text{d} S_{t} = \\mu S_{t} \\text{d}t + \\sigma S_{t} \\text{d} W_{t} $$ \n",
      "* We use an Euler discretization of the form $$ S_{t+h} = S_{t} \\text{exp} \\left [ \\left( \\mu - \\frac{1}{2} \\sigma^{2} \\right ) h + \\sigma \\sqrt{h} Z_{t} \\right ], $$ \n",
      "for a small $h$, where $Z_{t} \\sim \\text{N}(0,1)$ and are independent.\n",
      "$$ \\Rightarrow \\text{log}(S_{t+h}) \\sim \\mathcal{N} \\left( \\text{log}(S_{t}) + \\left( \\mu - \\frac{1}{2} \\sigma^{2} \\right ) h, \\sigma^{2} h \\right )  $$\n",
      "* We consider an Asian Option of the form $ \\sum_{i=1}^{m} f(S_{t_{i}}) $ where $0 < t_{1} < \\ldots < t_{m} = T $ is a set of montoring dates and $f$ is some function. \n",
      "* We want to estimate the price of this option, that is, we want to estimate \n",
      "$$ \\mathbb{E} \\left [ \\sum_{i=1}^{m} f(S_{t_{i}}) \\right ] = \\int \\left [ \\sum_{i=1}^{m} f(s_{t_{i}}) \\right ] p(s_{1:T}|s_{0}) \\text{d} s_{1:T} $$\n",
      "where $s_{0}$ is the price at time $0$.\n",
      "* For the moment, we assume that $t_{1} = k, t_{2} = 2k, \\ldots, t_{m} = mk = N $, that is, we simulate forward one day at a time and look at the price after every $k$ days. \n",
      "* Instead of the expectation above, let us (for the time being) target $ \\text{E} | \\sum_{i=1}^{m} f(S_{t_{i}}) | $\n",
      "* Henceforth, we change our notation to let $S$ denote the log-price, in which case the distributions become normal instead of lognormal.\n",
      "\n",
      "\n",
      "### Idea: \n",
      "(Everything is conditioned on $s_{0}$)\n",
      "* The general way of doing SIR would be to first sample from the sequence of densities which are proportional to $$ p(s_{1}), p(s_{1:2}), \\ldots, p(s_{1:(k-1)}), |f(s_{k})|^{\\kappa_{1}} p(s_{1:k}) $$\n",
      "$$ p(s_{1:(k+1)}), p(s_{1:(k+2)}), \\ldots, p(s_{1:(2k-1)}), |\\sum_{i=1}^{2} |f(s_{ik})|^{\\kappa_{2}} p(s_{1:2k}) $$\n",
      "$$ \\vdots $$\n",
      "$$ p(s_{1:(m-1)k+1}), \\ldots, p(s_{1:mk-1}), |\\sum_{i=1}^{m} f(s_{ik})| ^{\\kappa_{m}} p(s_{1:mk}), $$\n",
      "where $ 0 \\leq \\kappa_{1} < \\ldots < \\kappa_{m} < 1 $ and the process densities are used as proposals.\n",
      "* Given these samples, we use SMC samplers to sample from the sequence of densities\n",
      "$$ \\pi_{n}^{\\prime}(s_{1:N}) \\propto | \\sum_{i=1}^{m} f(s_{ik}) |^{\\tilde{\\kappa}_{n}} p(s_{1:N}) $$\n",
      "for $n = 1, 2, \\ldots, p$ and $ \\kappa_{m} = \\tilde{\\kappa}_{1} < \\ldots < \\tilde{\\kappa}_{p} = 1 $\n",
      "* The SIR algorithm is pretty straightforward to apply, but the SMC sampler is more complicated. "
     ]
    },
    {
     "cell_type": "code",
     "collapsed": false,
     "input": [
      "# Calling libraries:\n",
      "\n",
      "%matplotlib inline  \n",
      "from __future__ import division\n",
      "import numpy as np\n",
      "import time\n",
      "from scipy.stats import norm, uniform\n",
      "from pylab import plot, show, legend\n",
      "import matplotlib.pyplot as plt\n",
      "plt.rcParams['figure.figsize'] = (16.0, 5.0) #for larger plots\n",
      "\n",
      "def f(x):\n",
      "    return x\n",
      "np.vectorize(f)"
     ],
     "language": "python",
     "metadata": {},
     "outputs": [
      {
       "metadata": {},
       "output_type": "pyout",
       "prompt_number": 5,
       "text": [
        "<numpy.lib.function_base.vectorize at 0x36e41d0>"
       ]
      }
     ],
     "prompt_number": 5
    },
    {
     "cell_type": "markdown",
     "metadata": {},
     "source": [
      "### SIR: \n",
      "\n",
      "* Since our model is quite simple, what we can do is that we sample from the sequence of densities \n",
      "$$ \\pi_{n}(s_{t_{1}},\\ldots,s_{t_{n}}) \\propto |\\sum_{i=1}^{n} f(s_{t_{i}}) |^{\\kappa_{n}} p(s_{t_{1}},\\ldots,s_{t_{n}}) = |\\sum_{i=1}^{n} f(s_{ik}) |^{\\kappa_{n}} p(s_{k},\\ldots,s_{nk}) $$\n",
      "for $n = 1, \\ldots, m$. \n",
      "* We can do this because we know the process densities of $S_{k}, S_{2k}, \\ldots, S_{mk}$ and we can simulate $S_{0} \\rightarrow S_{k} \\rightarrow S_{2k} \\rightarrow \\cdots \\rightarrow S_{mk}$ directly without any intermediate points of the path. \n",
      "* Henceforth, we refer to these as $S_{1:m}$ for notational convenience.\n",
      "\n",
      "What are the incremental weights in this case?\n",
      "* We observe that we are targeting $\\gamma_{n}(s_{1:n}) = |\\sum_{i=1}^{n}(s_{i})|^{\\kappa_{n}} p(s_{1:n}) $ at the $n$-th time step. \n",
      "* Our proposals are $q_{n}(s_{1:n}) =$ process density of $S_{1:n}$.\n",
      "* In this case, the weights are (for $n = 1,2, \\ldots, m$): \n",
      "$$ w_{n}(s_{1:n}) = \\frac{ \\gamma_{n}(s_{1:n}) }{ q_{n}(s_{1:n}) } = \\frac{ \\gamma_{n-1}(s_{1:n-1}) }{ q_{n-1}(s_{1:n-1}) } \\times \\frac{ \\gamma_{n}(s_{1:n})}{ \\gamma_{n-1}(s_{1:n-1}) q_{n}(s_{n}|s_{1:n-1})} = w_{n-1}(s_{1:n-1}) \\alpha_{n}(s_{1:n}) $$\n",
      "where \n",
      "$$ \\alpha_{n}(s_{1:n}) = \\frac{ \\gamma_{n} (s_{1:n}) } { \\gamma_{n-1} (s_{1:n-1}) q_{n}(s_{n}|s_{1:n-1}) } = \\frac{ | \\sum_{i=1}^{n} f(s_{i}) |^{\\kappa_{n}} p(s_{1:n}) } { | \\sum_{i=1}^{n-1} f(s_{i}) |^{\\kappa_{n-1}} p(s_{1:n-1})} \\frac{1}{p(s_{n}|s_{1:n-1}) } = \\frac{ | \\sum_{i=1}^{n} f(s_{i}) |^{\\kappa_{n}} } { | \\sum_{i=1}^{n-1} f(s_{i}) |^{\\kappa_{n-1}} } $$\n",
      "where $p(\\cdot)$ denotes the process density of the Brownian motion.\n",
      "\n",
      "A note on the normalizing constant: \n",
      "* $Z_{1}^{SIR} = \\int p(s_{1}) \\text{d} s_{1} = 1$.\n",
      "* $Z_{m}^{SIR} = \\int |\\sum_{i=1}^{m} f(s_{i})|^{\\kappa_{m}} p(s_{1:m}) \\text{d} s_{1:m} $ is the normalizing constant in the SIR algorithm, which we estimate. "
     ]
    },
    {
     "cell_type": "code",
     "collapsed": false,
     "input": [
      "# SIR algorithm: \n",
      "\n",
      "def SIR(m,k,S_0,sigma,mu,M,c):\n",
      "    \n",
      "    S = np.zeros((M,m+1))\n",
      "    S[:,0], weights = [S_0]*M, [1/M]*M\n",
      "    cut_off, normalizing_constant = M*c, 1.0\n",
      "    mean, sd = (mu-0.5*sigma**2)*k/360, sigma*np.sqrt(k/360)\n",
      "    kappa = np.linspace(start=0.0,stop=0.5,num=m)\n",
      "    \n",
      "    S[:,1] = S[:,0] + mean + sd*norm.rvs(0,1,M)\n",
      "    for n in np.add(2,range(m-1)):                                          # n = 2, 3, ..., m\n",
      "        weights /= np.power(np.absolute(np.sum(f(S[:,1:n]),axis=1)),kappa[n-2])\n",
      "        S[:,n] = S[:,n-1] + mean + sd*norm.rvs(0,1,M)\n",
      "        weights *= np.power(np.absolute(np.sum(f(S[:,1:(n+1)]),axis=1)),kappa[n-1])\n",
      "        normalizing_constant *= np.sum(weights) \n",
      "        weights /= np.sum(weights)\n",
      "        ESS = 1/np.sum(weights**2)\n",
      "        if(ESS<cut_off):\n",
      "            S[:,1:(n+1)] = S[np.random.choice(a=range(M),size=M,p=weights),1:(n+1)]\n",
      "            weights = [1/M]*M \n",
      "        \n",
      "    return S[:,1:(m+1)], weights, normalizing_constant"
     ],
     "language": "python",
     "metadata": {},
     "outputs": [],
     "prompt_number": 6
    },
    {
     "cell_type": "markdown",
     "metadata": {},
     "source": [
      "##### Sanity check: (is SIR code correct?)\n",
      "* The normalizing constant in SIR is approximating $ \\text{E} |\\sum_{i=1}^{m} f(S_{i}) |^{\\kappa_{m}} $\n",
      "* Let us do a naive Monte Carlo to verify that this is working properly."
     ]
    },
    {
     "cell_type": "code",
     "collapsed": false,
     "input": [
      "# Naive Monte Carlo to check if SIR is working okay:\n",
      "\n",
      "def naive_MC_SIR(m,k,S_0,sigma,mu,M):\n",
      "    S, f_S = [S_0]*M, np.zeros(M) \n",
      "    mean, sd = (mu-0.5*sigma**2)*k/360, sigma*np.sqrt(k/360)\n",
      "    for i in range(m):                                                   # i = 1, 2, ..., m\n",
      "        S += mean + sd*norm.rvs(0,1,M)\n",
      "        f_S += f(S)\n",
      "    return np.mean(np.power(np.absolute(f_S),kappa[m-1]))"
     ],
     "language": "python",
     "metadata": {},
     "outputs": [],
     "prompt_number": 26
    },
    {
     "cell_type": "code",
     "collapsed": false,
     "input": [
      "m, k, M = 30, 30, 10**4\n",
      "kappa = np.linspace(start=0.0,stop=0.5,num=m)\n",
      "S_0, sigma, mu = np.log(100), 3.0, 0.0\n",
      "c_SIR = 0.5\n",
      "\n",
      "\n",
      "SIR(m,k,S_0,sigma,mu,M,c_SIR)[2], naive_MC_SIR(m,k,S_0,sigma,mu,M)"
     ],
     "language": "python",
     "metadata": {},
     "outputs": [
      {
       "metadata": {},
       "output_type": "pyout",
       "prompt_number": 27,
       "text": [
        "(7.8642482038376063, 7.8967446828813843)"
       ]
      }
     ],
     "prompt_number": 27
    },
    {
     "cell_type": "code",
     "collapsed": false,
     "input": [
      "m, k, M = 15, 60, 10**4\n",
      "kappa = np.linspace(start=0.0,stop=0.5,num=m)\n",
      "S_0, sigma, mu = np.log(100), 2.0, 0.0\n",
      "c_SIR = 0.5\n",
      "\n",
      "SIR(m,k,S_0,sigma,mu,M,c_SIR)[2], naive_MC_SIR(m,k,S_0,sigma,mu,M)"
     ],
     "language": "python",
     "metadata": {},
     "outputs": [
      {
       "metadata": {},
       "output_type": "pyout",
       "prompt_number": 28,
       "text": [
        "(5.3921299544327983, 5.3788348835426429)"
       ]
      }
     ],
     "prompt_number": 28
    },
    {
     "cell_type": "markdown",
     "metadata": {},
     "source": [
      "* Okay, so SIR seems to be working okay! \n",
      "* This took some time to get correct (unfortunately), but at least it works. \n",
      "* Is the variance of the SIR estimate less than the variance of the naive MC estimate?"
     ]
    },
    {
     "cell_type": "code",
     "collapsed": false,
     "input": [],
     "language": "python",
     "metadata": {},
     "outputs": []
    },
    {
     "cell_type": "code",
     "collapsed": false,
     "input": [],
     "language": "python",
     "metadata": {},
     "outputs": []
    },
    {
     "cell_type": "markdown",
     "metadata": {},
     "source": [
      "### SMC Sampler:\n",
      "* Again, we do a simplificaton because the model is simple. \n",
      "* What we want to do is to sample from \n",
      "$$ \\tilde{\\pi}_{n} (s_{1:m}) \\propto |\\sum_{i=1}^{m} f(s_{i}) |^{\\tilde{\\kappa}_{n}} p(s_{1:m}) $$\n",
      "for $n = 1, \\ldots, p$ and $ \\kappa_{m} = \\tilde{\\kappa}_{1} < \\ldots < \\tilde{\\kappa}_{p} = 1 $\n",
      "* SIR gives a bunch of particles $\\{ s_{1:m}^{(l)} \\}_{l=1}^{M}$ with weights $\\{ w^{(l)} \\}_{l=1}^{M} $.\n",
      "* Let $x^{(l)} = \\{ s_{1:m}^{(l)} \\}$, $l = 1, \\ldots, M$.\n",
      "\n",
      "So how do we do SMC sampling? \n",
      "* For each particle $x^{(l)}$, we initialize particles $x_{0}^{(l)} = x^{(l)}$ and weights $w_{0}^{(l)} = w^{(l)}$. We do this using the SIR algorithm algorithm. The weights are obtained from the SIR algorithm.\n",
      "* Move $x_{n-1}^{(l)} \\rightarrow x_{n}^{(l)}$ by using kernel $K_{n}(x_{n-1}^{(l)},x_{n})$.\n",
      "* Compute incremental weights:\n",
      "$$ W_{n}^{(l)}(x_{(n-1):n}^{(l)}) = \\frac{ \\tilde{\\pi}_{n}(x_{n}^{(l)}) L_{n-1}(x_{n}^{(l)},x_{n-1}^{(l)})}{ \\tilde{\\pi}_{n-1}(x_{n-1}^{(l)}) K_{n}(x_{n-1}^{(l)},x_{n}^{(l)}) } $$ \n",
      "and then resample if need be.\n",
      "* The choice of backward kernel is:\n",
      "$$ L_{n-1}(x_{n},x_{n-1}) = \\frac{ \\tilde{\\pi}_{n}(x_{n-1}) K_{n}(x_{n-1},x_{n}) }{ \\tilde{\\pi}_{n}(x_{n}) }, $$\n",
      "in which case the incremental weights reduce down to:\n",
      "$$ W_{n}^{(l)}(x_{n-1}^{(l)}) = \\frac{\\tilde{\\pi}_{n}(x_{n-1}^{(l)})}{\\tilde{\\pi}_{n-1}(x_{n-1}^{(l)})} = \\frac{ | \\sum_{i=1}^{m} f(s_{i,n-1}^{(l)}) |^{\\tilde{\\kappa}_{n}} } { | \\sum_{i=1}^{m} f(s_{i,n-1}^{(l)}) |^{\\tilde{\\kappa}_{n-1}} }, \\text{ } n \\geq 1, $$\n",
      "where $ x_{n}^{(l)} = s_{1:m,n}^{(l)}$, $n = 1, 2, \\ldots, p$ and $l = 1, 2, \\ldots, M$.\n",
      "\n",
      "* What is $ \\tilde{\\pi}_{0}(x_{0}^{(l)})$? These are (from the SIR model): \n",
      "$$\\pi_{m}(s^{(l)}_{1:m}) \\propto | \\sum_{i=1}^{m} f(s^{(l)}_{i}) |^{\\kappa_{m}} p(s^{(l)}_{1:m}) = \\tilde{\\pi}_{n} (s^{(l)}_{1:m})$$ \n",
      "as $\\tilde{\\kappa}_{n} = \\kappa_{m} $.\n",
      "\n",
      "The question that remains is how to choose the kernel $K_{n}$?\n",
      "* We want $K_{n}(x_{n-1},\\cdot)$ to be $\\tilde{\\pi}_{n}(\\cdot)$ invariant.\n",
      "* The simplest way to do this is to do a symmetric Metropolis-Hastings random walk.\n",
      "* Therefore, propose $S_{n} \\sim \\text{N}(x_{n-1},\\text{I})$ and accept with probability \n",
      "$$1 \\wedge \\frac{\\tilde{\\pi}_{n}(X_{n})}{\\tilde{\\pi}_{n}(s_{n-1})} = 1 \\wedge \\frac{|\\sum_{i=1}^{m}f(S_{i})|^{\\tilde{\\kappa}_{n}} p(S_{1:m})}{ |\\sum_{i=1}^{m}f(s_{i})|^{\\tilde{\\kappa}_{n}} p(s_{1:m}) } $$\n",
      "\n",
      "A note on the normalizing constant:\n",
      "* $Z_{1}^{SMC} = \\int | \\sum_{i=1}^{m} f(s_{i}) |^{\\tilde{\\kappa}_{1}} p(s_{1:m}) \\text{d} s_{1:m} = Z_{m}^{SIR}$ as $\\tilde{\\kappa}_{1} = \\kappa_{m}$.\n",
      "* $ Z_{p}^{SMC} = \\int | \\sum_{i=1}^{m} f(s_{i}) | p(s_{1:m}) \\text{d} s_{1:m} $ is the normalizing constant in the SMC algorithm, and is precisely what we want to estimate."
     ]
    },
    {
     "cell_type": "code",
     "collapsed": false,
     "input": [
      "# SMC samplers: \n",
      "\n",
      "# We work on a log scale for densities because they tend to be tiny.\n",
      "\n",
      "# p(s_{1:m}): \n",
      "# This is the density of the path of a Brownian Motion starting at S_0\n",
      "# We consider the log of the density\n",
      "def log_path_density(sigma,mu,s_0,path):\n",
      "    path = np.append(s_0,path)\n",
      "    N = np.size(path)\n",
      "    mean = path[0:(N-1)] + (mu-0.5*sigma**2)*k/360.0\n",
      "    sd = sigma*np.sqrt(k/360.0)\n",
      "    return np.sum(np.log(norm.pdf(path[1:N],loc=mean,scale=sd)))\n",
      "np.vectorize(log_path_density)\n",
      "\n",
      "\n",
      "\"\"\" For the moment we don't actually use the following function, but these may be useful later.\n",
      "\n",
      "# pi_{n}(s_{1:m})\n",
      "# This is the density that we are targeting at time n:\n",
      "def SMC_log_target_density(sigma,mu,kap,s_0,path):\n",
      "    return np.log(np.power(np.abs(np.sum(f(path))),kap)) + log_path_density(sigma,mu,s_0,path)\n",
      "np.vectorize(SMC_log_target_density)\n",
      "\n",
      "\"\"\"\n",
      "\n",
      "# Symmetric random walk Metropolis-Hastings kernel:\n",
      "# (No new array created)\n",
      "def propagate(original,proposed,n):\n",
      "    proposed = norm.rvs(loc=original,scale=1.0) \n",
      "    a = np.power(np.absolute(np.sum(f(proposed))/np.sum(f(original))),kappa_tilde[n])\n",
      "    b = np.exp(log_path_density(sigma,mu,S_0,proposed)-log_path_density(sigma,mu,S_0,original))\n",
      "    MH_ratio = a*b\n",
      "    acceptance_probability = 1.0\n",
      "    if(MH_ratio<1.0):\n",
      "        acceptance_probability = MH_ratio\n",
      "    u = uniform.rvs(size=1)\n",
      "    if(u<acceptance_probability):\n",
      "        original = proposed\n",
      "    return original"
     ],
     "language": "python",
     "metadata": {},
     "outputs": [],
     "prompt_number": 17
    },
    {
     "cell_type": "code",
     "collapsed": false,
     "input": [
      "# Defining the SMC function:\n",
      "\n",
      "def SMC(m,k,S_0,sigma,mu,M,c_SIR,c_SMC,kappa,kappa_tilde):\n",
      "    \n",
      "    m = np.int(m)\n",
      "    \n",
      "    # We first run SIR with M particles:\n",
      "    S, weights, SIR_normalizing_constant = SIR(m,k,S_0,sigma,mu,M,c_SIR,kappa)\n",
      "    \n",
      "    # Next define some necessary things:\n",
      "    cut_off, normalizing_constant = c_SMC*M, SIR_normalizing_constant\n",
      "    incremental_weights = np.zeros(M)\n",
      "    p = np.size(kappa_tilde)-1\n",
      "    proposed = np.zeros(M)                                               \n",
      "    # (this is a dummy variable defined so that we don't need to define a new array everytime we propagate rows of S)\n",
      "    \n",
      "    for n in np.add(1,range(p)):                                              # n = 1, 2, ..., p\n",
      "        \n",
      "        # Propagating and computing incremental weights:\n",
      "        # (hopefully we shall later be able to do without the loop over i)\n",
      "        # incremental_weights = np.power(np.absolute(np.sum(f(S),axis=1)),kappa_tilde[n]-kappa_tilde[n-1])\n",
      "        # (the above line calculates the incremental weights, but how to propagate without the loop?)\n",
      "        for i in range(M):                                                              \n",
      "            incremental_weights[i] = np.power(np.absolute(np.sum(f(S[i,:]))),kappa_tilde[n]-kappa_tilde[n-1])\n",
      "            S[i,:] = propagate(S[i,:],proposed,n)\n",
      "        \n",
      "        weights *= incremental_weights\n",
      "        normalizing_constant *= np.sum(weights) \n",
      "        weights /= np.sum(weights)\n",
      "        ESS = 1/np.sum(weights**2)\n",
      "        if(ESS<cut_off):\n",
      "            S = S[np.random.choice(a=range(M),size=M,p=weights),:]\n",
      "            weights = [1/M]*M \n",
      "        \n",
      "    return normalizing_constant "
     ],
     "language": "python",
     "metadata": {},
     "outputs": [],
     "prompt_number": 18
    },
    {
     "cell_type": "markdown",
     "metadata": {},
     "source": [
      "### Naive Monte Carlo: \n",
      "* As a comparison, we can also use naive Monte Carlo to estimate the price. \n",
      "* We simulate a bunch of $M$ paths of the process independently of each other and then estimate the option price as \n",
      "$$ \\frac{1}{M} \\sum_{l=1}^{M} \\left [ \\sum_{i=1}^{m} f(S_{i}^{(l)}) \\right ] $$\n",
      "where we again use the simplification $S_{1:m}$ for $S_{t_{1}:t_{m}}$ nd where $S_{1:m}^{(l)}$ denotes the $l$-th path.\n",
      "* However, since the SMC algorithm is essentially approximating $ \\text{E} | \\sum_{i=1}^{m} f(S_{i}) | $, let us also use naive Monte Carlo to estimate the same quantity. "
     ]
    },
    {
     "cell_type": "code",
     "collapsed": false,
     "input": [
      "# Naive Monte Carlo\n",
      "\n",
      "def naive_MC(m,k,S_0,sigma,mu,M):\n",
      "    m = np.int(m)\n",
      "    price = np.zeros(M)\n",
      "    S = [S_0]*M \n",
      "    mean = [(mu - 0.5*sigma**2)*k/360.0]*M\n",
      "    sd = sigma*np.sqrt(k/360.0)\n",
      "    for i in np.add(1,range(m)):                                                    # i = 1, 2, ..., m\n",
      "        S = np.add(S,mean+sd*norm.rvs(0,1,M))\n",
      "        price += f(S)\n",
      "    return np.mean(np.absolute(price)) "
     ],
     "language": "python",
     "metadata": {},
     "outputs": [],
     "prompt_number": 19
    },
    {
     "cell_type": "markdown",
     "metadata": {},
     "source": [
      "##### Another sanity check (is the code for the SMC sampler correct?):"
     ]
    },
    {
     "cell_type": "code",
     "collapsed": false,
     "input": [
      "m, k, M, p = 20.0, 30, 10**4, 15\n",
      "kappa = np.linspace(start=0.0,stop=0.5,num=m)\n",
      "kappa_tilde = np.linspace(start=0.5,stop=1.0,num=p)\n",
      "S_0, sigma, mu = np.log(100), 3.0, 0.0\n",
      "c_SIR, c_SMC = 0.5, 0.5\n",
      "\n",
      "print \"kappa =\", kappa\n",
      "print \"kappa_tilde =\", kappa_tilde\n",
      "\n",
      "SMC(m,k,S_0,sigma,mu,M,c_SIR,c_SMC,kappa,kappa_tilde), naive_MC(m,k,S_0,sigma,mu,M)"
     ],
     "language": "python",
     "metadata": {},
     "outputs": [
      {
       "output_type": "stream",
       "stream": "stdout",
       "text": [
        "kappa = [ 0.          0.02631579  0.05263158  0.07894737  0.10526316  0.13157895\n",
        "  0.15789474  0.18421053  0.21052632  0.23684211  0.26315789  0.28947368\n",
        "  0.31578947  0.34210526  0.36842105  0.39473684  0.42105263  0.44736842\n",
        "  0.47368421  0.5       ]\n",
        "kappa_tilde = [ 0.5         0.53571429  0.57142857  0.60714286  0.64285714  0.67857143\n",
        "  0.71428571  0.75        0.78571429  0.82142857  0.85714286  0.89285714\n",
        "  0.92857143  0.96428571  1.        ]\n"
       ]
      },
      {
       "metadata": {},
       "output_type": "pyout",
       "prompt_number": 21,
       "text": [
        "(38.345143447700892, 38.673511212198612)"
       ]
      }
     ],
     "prompt_number": 21
    },
    {
     "cell_type": "code",
     "collapsed": false,
     "input": [
      "m, k, M, p = 20.0, 30, 10**3, 15\n",
      "m = np.int(m)\n",
      "\n",
      "survival_probability_naive_MC = np.zeros(m)\n",
      "survival_probability_SMC = np.zeros(m)\n",
      "naive_MC_price = np.zeros(m)\n",
      "SMC_sampler_price = np.zeros(m)\n",
      "\n",
      "kappa_tilde = np.linspace(start=0.5,stop=1.0,num=p)\n",
      "\n",
      "for t in np.add(1,range(m)):                              # t = 1, 2, ..., m\n",
      "        \n",
      "    kappa = np.linspace(start=0.0,stop=0.5,num=t)\n",
      "        \n",
      "    naive_MC_price[t-1] = naive_MC(t,k,S_0,sigma,mu,M)\n",
      "    SMC_sampler_price[t-1] = SMC(t,k,S_0,sigma,mu,M,c_SIR,c_SMC,kappa,kappa_tilde)\n",
      "    \n",
      "plt.figure()\n",
      "plt.plot(np.add(1,range(m)),naive_MC_price,\"r*\",np.add(1,range(m)),SMC_sampler_price,\"b-\")\n",
      "plt.show()"
     ],
     "language": "python",
     "metadata": {},
     "outputs": [
      {
       "metadata": {},
       "output_type": "display_data",
       "png": "[encoded data removed]",
       "text": [
        "<matplotlib.figure.Figure at 0x9fc24e0>"
       ]
      }
     ],
     "prompt_number": 24
    },
    {
     "cell_type": "markdown",
     "metadata": {},
     "source": [
      "* The code is working. \n",
      "* I was an imbecile. My code for the naive Monte Carlo was incorrect, but the SMC code was fine."
     ]
    },
    {
     "cell_type": "markdown",
     "metadata": {},
     "source": [
      "### Basic comparison study: \n",
      "* We now look at the standard errors for the naive MC estimate and the SMC estimate. "
     ]
    },
    {
     "cell_type": "code",
     "collapsed": false,
     "input": [
      "rep = 50\n",
      "SMC_estimate = np.zeros(rep)\n",
      "MC_estimate = np.zeros(rep)\n",
      "\n",
      "overall_start_time = time.clock()\n",
      "\n",
      "start_time = time.clock()\n",
      "for r in range(rep):\n",
      "    SMC_estimate[r] = SMC(m,k,S_0,sigma,mu,10**3,c_SIR,c_SMC,kappa,kappa_tilde)\n",
      "average_SMC_run_time = (time.clock() - start_time)/rep\n",
      "\n",
      "start_time = time.clock()\n",
      "for r in range(rep):\n",
      "    MC_estimate[r] = naive_MC(m,k,S_0,sigma,mu,10**4) \n",
      "average_MC_run_time = (time.clock() - start_time)/rep\n",
      "\n",
      "overall_run_time = time.clock() - overall_start_time\n",
      "\n",
      "print \"SMC estimate =\", np.mean(SMC_estimate)\n",
      "print \"MC estimate =\", np.mean(MC_estimate)\n",
      "print \"SMC standard deviation =\", np.std(SMC_estimate)\n",
      "print \"MC standard deviation =\", np.std(MC_estimate)\n",
      "print \"SMC average run time =\", average_SMC_run_time, \"seconds\"\n",
      "print \"MC average run time =\", average_MC_run_time, \"seconds\"\n",
      "print \"Overall run time for \", rep, \"repetitions =\", overall_run_time/60, \"minutes\""
     ],
     "language": "python",
     "metadata": {},
     "outputs": [
      {
       "output_type": "stream",
       "stream": "stdout",
       "text": [
        "SMC estimate = 38.7543834101\n",
        "MC estimate = 38.5976005452\n",
        "SMC standard deviation = 0.725420055595\n",
        "MC standard deviation = 0.254918027862\n",
        "SMC average run time = 4.96248263856 seconds\n",
        "MC average run time = 0.0101401468498 seconds\n",
        "Overall run time for  50 repetitions = 4.14385494631 minutes\n"
       ]
      }
     ],
     "prompt_number": 44
    },
    {
     "cell_type": "code",
     "collapsed": false,
     "input": [
      "print \"Overall run time for \", rep, \"repetitions =\", overall_run_time/60, \"minutes\""
     ],
     "language": "python",
     "metadata": {},
     "outputs": [
      {
       "output_type": "stream",
       "stream": "stdout",
       "text": [
        " Overall run time for  50 repetitions = 46.7764310687 minutes\n"
       ]
      }
     ],
     "prompt_number": 43
    },
    {
     "cell_type": "code",
     "collapsed": false,
     "input": [],
     "language": "python",
     "metadata": {},
     "outputs": []
    }
   ],
   "metadata": {}
  }
 ]
}