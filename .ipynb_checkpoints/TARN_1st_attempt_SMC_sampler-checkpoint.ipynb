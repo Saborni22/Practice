{
 "metadata": {
  "name": "",
  "signature": "sha256:90cbbeb8d30db2ea42c9cfd0773e9a70dd6083acd3a3b39b3e3374c701c3a10c"
 },
 "nbformat": 3,
 "nbformat_minor": 0,
 "worksheets": [
  {
   "cells": [
    {
     "cell_type": "markdown",
     "metadata": {},
     "source": [
      "### Description of the option:\n",
      "* Predetermined set of settlement dates $ \\{ t_{i} \\}_{i=1}^{m}$.\n",
      "* Markov process $\\{ S_{t} \\}_{t \\geq 0}$ is stock price.\n",
      "* Function $f: \\mathbb{R}_{+} \\rightarrow \\mathbb{R}$.\n",
      "* Gain process: $G_{k} = \\sum_{i=1}^{k} f^{+}(S_{t_{i}}) $, loss process $L_{k} = \\sum_{i=1}^{k} f^{-} (S_{t_{i}})$ for $k = 1, 2, \\ldots, m$.\n",
      "* Stopping times $\\tau^{(G)} = \\text{inf} \\{ k \\geq 1: G_{k} \\geq \\Gamma_{G} \\}$ and $\\tau^{(L)} = \\text{inf} \\{ k \\geq 1: L_{k} \\geq \\Gamma_{L} \\}$. \n",
      "* $\\tau = \\text{min} ( \\tau^{(G)}, \\tau^{(L)}, m )$.\n",
      "* Want to estimate the price $P = \\mathbb{E} \\left [ \\sum_{k=1}^{\\tau} f(S_{t_{k}}) \\right ] $.\n",
      "\n",
      "### Idea:\n",
      "* We consider a simplified model and write down the price as:\n",
      "$$ P = \\mathbb{E} \\left [ \\sum_{k=1}^{\\tau} f(S_{t_{k}}) \\right ] = \\mathbb{E} \\left [ \\mathbb{E} \\left ( \\sum_{k=1}^{\\tau} f(S_{t_{k}}) | \\tau = t \\right ) \\right ] =  \\sum_{t=1}^{m} \\left [ \\mathbb{E} \\left ( \\sum_{k=1}^{t} f(S_{k}) \\right ) \\mathbb{P}(\\tau = t ) \\right ] $$\n",
      "* Estimate $\\mathbb{E} \\left ( \\sum_{k=1}^{t} f(S_{k}) \\right )$ using SMC samplers (as before).\n",
      "* Estimate $ \\mathcal{P} ( \\tau = t ) $ using SMC (either blind or non blind).\n",
      "\n",
      "So how exactly do we estimate $ \\mathbb{P} ( \\tau = t ) $? \n",
      "* We observe that \n",
      "$$ \\mathbb{P} ( \\tau = t ) = \\mathbb{P} ( G_{1:(t-1)} < \\Gamma_{G}, L_{1:(t-1)}< \\Gamma_{L}, G_{t} \\geq \\Gamma_{G} ) + \\mathbb{P} ( G_{1:(t-1)} < \\Gamma_{G}, L_{1:(t-1)}<\\Gamma_{L}, L_{t} \\geq \\Gamma_{L} ) - \\mathbb{P} ( G_{1:(t-1)} < \\Gamma_{G}, L_{1:(t-1)}<\\Gamma_{L}, G_{t} \\geq \\Gamma_{G}, L_{t} \\geq \\Gamma_{L} )$$\n",
      "This follows simply from $\\mathbb{P}(A \\cup B) = \\mathbb{P}(A) + \\mathbb{P}(B) - \\mathbb{P}(A \\cap B)$.\n",
      "* We can write \n",
      "$$ \\mathbb{P} ( G_{1:(t-1)} < \\Gamma_{G}, L_{1:(t-1)}<\\Gamma_{L}, G_{t} \\geq \\Gamma_{G} ) = \\mathbb{E} \\left [ 1 \\{ G_{1:(t-1)} < \\Gamma_{G}, L_{1:(t-1)}<\\Gamma_{L}, G_{t} \\geq \\Gamma_{G} \\} \\right ] = \\mathbb{E} \\left [ \\prod_{i=1}^{t-1} 1 \\{ G_{i} < \\Gamma_{G}, L_{i} < \\Gamma_{L} \\} 1 \\{ G_{t} \\geq \\Gamma_{G} \\} \\right ] $$\n",
      "and similarly \n",
      "$$ \\mathbb{P} ( G_{1:(t-1)} < \\Gamma_{G}, L_{1:(t-1)}>\\Gamma_{L}, L_{t} \\geq \\Gamma_{L} ) = \\mathbb{E} \\left [ \\prod_{i=1}^{t-1} 1 \\{ G_{i} < \\Gamma_{G}, L_{i} < \\Gamma_{L} \\} 1 \\{ L_{t} \\geq \\Gamma_{L} \\} \\right ], $$\n",
      "$$ \\mathbb{P} ( G_{1:(t-1)} < \\Gamma_{G}, L_{1:(t-1)}<\\Gamma_{L}, G_{t} \\geq \\Gamma_{G}, L_{t} \\geq \\Gamma_{L} ) = \\mathbb{E} \\left [ \\prod_{i=1}^{t-1} 1 \\{ G_{i} < \\Gamma_{G}, L_{i} < \\Gamma_{L} \\} 1 \\{ G_{t} \\geq \\Gamma_{G} \\} 1 \\{ L_{t} \\geq \\Gamma_{L} \\} \\right ] $$"
     ]
    },
    {
     "cell_type": "code",
     "collapsed": false,
     "input": [
      "# Calling libraries:\n",
      "%matplotlib inline  \n",
      "from __future__ import division\n",
      "import numpy as np\n",
      "import time\n",
      "from scipy.stats import norm, uniform\n",
      "from pylab import plot, show, legend\n",
      "import matplotlib.pyplot as plt\n",
      "plt.rcParams['figure.figsize'] = (16.0, 5.0) #for larger plots\n",
      "\n",
      "# Initializing:\n",
      "\n",
      "m, k, M = 20.0, 30, 10**3\n",
      "S_0, sigma, mu = np.log(100), 3.0, 0.0\n",
      "c_SIR, c_SMC_sampler, c_SMC_survival = 0.5, 0.5, 0.5\n",
      "gamma_L, gamma_G = 10, 10\n",
      "p = 10"
     ],
     "language": "python",
     "metadata": {},
     "outputs": [],
     "prompt_number": 2
    },
    {
     "cell_type": "code",
     "collapsed": false,
     "input": [
      "def f(x):\n",
      "    return x\n",
      "\n",
      "def f_positive(x):\n",
      "    return f(x)*(f(x)>0)\n",
      "\n",
      "def f_negative(x):\n",
      "    return -f(x)*(f(x)<0)\n",
      "\n",
      "np.vectorize(f)\n",
      "np.vectorize(f_positive)\n",
      "np.vectorize(f_negative)"
     ],
     "language": "python",
     "metadata": {},
     "outputs": [
      {
       "metadata": {},
       "output_type": "pyout",
       "prompt_number": 3,
       "text": [
        "<numpy.lib.function_base.vectorize at 0x39c0eb8>"
       ]
      }
     ],
     "prompt_number": 3
    },
    {
     "cell_type": "markdown",
     "metadata": {},
     "source": [
      "### TARN survival probability:\n",
      "* We are calculating $\\mathbb{P}(\\tau_{m} = t)$.\n",
      "* $\\tau_{m}$ because the stopping time depends on $m$."
     ]
    },
    {
     "cell_type": "code",
     "collapsed": false,
     "input": [
      "# This is using SMC to calculate the survival probability of TARN:\n",
      "# Using blind SMC for now\n",
      "\n",
      "def SMC_survival_probability(t,m,k,S_0,sigma,mu,M,c_SMC_survival,gamma_L,gamma_G):\n",
      "    \n",
      "    S, weights = [S_0]*M, [1/M]*M\n",
      "    cut_off, normalizing_constant = M*c_SMC_survival, 1   \n",
      "    G, L = np.zeros(M), np.zeros(M)\n",
      "    mean, sd = (mu-0.5*sigma**2)*k/360, sigma*np.sqrt(k/360)\n",
      "    \n",
      "    # Time steps 1, 2, ..., t-1:\n",
      "    for n in np.add(1,range(t-1)):                                          # n = 1, 2, 3, ..., t-1\n",
      "        S = np.add(mean,S+sd*norm.rvs(0,1,M))\n",
      "        G += f_positive(S)\n",
      "        L += f_negative(S)\n",
      "        weights *= (G<gamma_G)*(L<gamma_L)\n",
      "        normalizing_constant *= np.sum(weights) \n",
      "        weights /= np.sum(weights)\n",
      "        ESS = 1/np.sum(weights**2)\n",
      "        if(ESS<cut_off):\n",
      "            resampling_index= np.random.choice(a=range(M),size=M,p=weights)\n",
      "            S = S[resampling_index]\n",
      "            G = G[resampling_index]\n",
      "            L = L[resampling_index]\n",
      "            weights = [1/M]*M \n",
      "        \n",
      "    # Time step t: \n",
      "    S = np.add(mean,S+sd*norm.rvs(0,1,M))\n",
      "    G += f_positive(S)\n",
      "    L += f_negative(S)\n",
      "    incremental_weights_4 = np.asarray([0]*M)\n",
      "    if(t==m):\n",
      "        incremental_weights_4 = (G<gamma_G)*(L<gamma_L)\n",
      "    # Normalizing contants:\n",
      "    normalizing_constant_1 = normalizing_constant*np.sum(weights*(G>=gamma_G)) \n",
      "    normalizing_constant_2 = normalizing_constant*np.sum(weights*(L>=gamma_L)) \n",
      "    normalizing_constant_3 = normalizing_constant*np.sum(weights*(G>=gamma_G)*(L>=gamma_L)) \n",
      "    normalizing_constant_4 = normalizing_constant*np.sum(weights*incremental_weights_4)\n",
      "    \n",
      "    return normalizing_constant_1 + normalizing_constant_2 - normalizing_constant_3 + normalizing_constant_4"
     ],
     "language": "python",
     "metadata": {},
     "outputs": [],
     "prompt_number": 4
    },
    {
     "cell_type": "markdown",
     "metadata": {},
     "source": [
      "##### Sanity check (is the SMC survival probability code correct?):\n",
      "* Use naive Monte Carlo to estimate the survival probability and compare with the SMC method."
     ]
    },
    {
     "cell_type": "code",
     "collapsed": false,
     "input": [
      "def naive_MC_survival_probability(t,m,k,S_0,sigma,mu,M,gamma_L,gamma_G):\n",
      "    \n",
      "    G, L = np.zeros(M), np.zeros(M)\n",
      "    S, survive = [S_0]*M, np.ones(M)\n",
      "    mean, sd = (mu-0.5*sigma**2)*k/360, sigma*np.sqrt(k/360)\n",
      "\n",
      "    for n in range(t-1):\n",
      "        S = np.add(mean,S+sd*norm.rvs(0,1,M))\n",
      "        G += f_positive(S)\n",
      "        L += f_negative(S)\n",
      "        survive *= (G<gamma_G)*(L<gamma_L)\n",
      "    \n",
      "    S = np.add(mean,S+sd*norm.rvs(0,1,M))\n",
      "    G += f_positive(S)\n",
      "    L += f_negative(S)\n",
      "    survive_1 = survive*(G>=gamma_G)\n",
      "    survive_2 = survive*(L>=gamma_L)\n",
      "    survive_3 = survive*(L>=gamma_L)*(G>=gamma_G)\n",
      "    survive_4 = np.asarray([0]*M)\n",
      "    if(t==m):\n",
      "        survive_4 = survive*(G<gamma_G)*(L<gamma_L)\n",
      "    \n",
      "    return np.mean(survive_1+survive_2-survive_3+survive_4) "
     ],
     "language": "python",
     "metadata": {},
     "outputs": [],
     "prompt_number": 5
    },
    {
     "cell_type": "code",
     "collapsed": false,
     "input": [
      "m, k, M = 20, 30, 10**5\n",
      "c_SMC_survival = 0.5\n",
      "gamma_L, gamma_G = 10, 10\n",
      "\n",
      "survival_probability_naive_MC = np.zeros(m)\n",
      "survival_probability_SMC = np.zeros(m)\n",
      " \n",
      "for t in np.add(1,range(m)):                              # t = 1, 2, ..., m\n",
      "    survival_probability_naive_MC[t-1] = naive_MC_survival_probability(t,m,k,S_0,sigma,mu,10**5,gamma_L,gamma_G)\n",
      "    survival_probability_SMC[t-1] = SMC_survival_probability(t,m,k,S_0,sigma,mu,10**5,c_SMC_survival,gamma_L,gamma_G)\n",
      "    \n",
      "plt.figure()\n",
      "plt.plot(np.add(1,range(m)),survival_probability_naive_MC,\"r*\",np.add(1,range(m)),survival_probability_SMC,\"b-\")\n",
      "plt.title(\"Survival Probability\")\n",
      "plt.xlim([0,m+1])\n",
      "plt.ylim([-0.1,0.6])\n",
      "plt.show()"
     ],
     "language": "python",
     "metadata": {},
     "outputs": [
      {
       "metadata": {},
       "output_type": "display_data",
       "png": "[encoded data removed]",
       "text": [
        "<matplotlib.figure.Figure at 0x39c0668>"
       ]
      }
     ],
     "prompt_number": 6
    },
    {
     "cell_type": "markdown",
     "metadata": {},
     "source": [
      "* So the SMC algorithm for survival probability is working okay."
     ]
    },
    {
     "cell_type": "markdown",
     "metadata": {},
     "source": [
      "### SIR and SMC sampler:"
     ]
    },
    {
     "cell_type": "code",
     "collapsed": false,
     "input": [
      "# SIR algorithm: \n",
      "# using multonimial resampling\n",
      "\n",
      "def SIR(m,k,S_0,sigma,mu,M,c,kappa):\n",
      "    \n",
      "    m = np.int(m)\n",
      "    S = np.zeros((M,m+1))\n",
      "    S[:,0], weights = [S_0]*M, [1/M]*M\n",
      "    cut_off, normalizing_constant = M*c, 1.0\n",
      "    \n",
      "    mean, sd = (mu-0.5*sigma**2)*k/360.0, sigma*np.sqrt(k/360)\n",
      "    \n",
      "    S[:,1] = np.add(mean,S[:,0]+sd*norm.rvs(0,1,M))\n",
      "    for i in np.add(2,range(m-1)):                                                   # i = 2, 3, ..., m\n",
      "        S[:,i] = np.add(mean,S[:,i-1]+sd*norm.rvs(0,1,M))\n",
      "        numerator = np.power(np.absolute(np.sum(f(S[:,1:(i+1)]),axis=1)),kappa[i-1])\n",
      "        denominator = np.power(np.absolute(np.sum(f(S[:,1:i]),axis=1)),kappa[i-2])\n",
      "        weights *= numerator/denominator\n",
      "        normalizing_constant *= np.sum(weights) \n",
      "        weights /= np.sum(weights)\n",
      "        ESS = 1/np.sum(weights**2)\n",
      "        if(ESS<cut_off):\n",
      "            S[:,1:(i+1)] = S[np.random.choice(a=range(M),size=M,p=weights),1:(i+1)]\n",
      "            weights = [1/M]*M \n",
      "        \n",
      "    return S[:,1:(m+1)], weights, normalizing_constant"
     ],
     "language": "python",
     "metadata": {},
     "outputs": [],
     "prompt_number": 8
    },
    {
     "cell_type": "code",
     "collapsed": false,
     "input": [
      "# SMC samplers: \n",
      "\n",
      "# We work on a log scale for densities because they tend to be tiny.\n",
      "\n",
      "# p(s_{1:m}): \n",
      "# This is the density of the path of a Brownian Motion starting at S_0\n",
      "# We consider the log of the density\n",
      "def log_path_density(sigma,mu,s_0,path):\n",
      "    path = np.append(s_0,path)\n",
      "    N = np.size(path)\n",
      "    mean = path[0:(N-1)] + (mu-0.5*sigma**2)*k/360.0\n",
      "    sd = sigma*np.sqrt(k/360.0)\n",
      "    return np.sum(np.log(norm.pdf(path[1:N],loc=mean,scale=sd)))\n",
      "np.vectorize(log_path_density)\n",
      "\n",
      "\n",
      "\"\"\" For the moment we don't actually use the following function, but these may be useful later.\n",
      "\n",
      "# pi_{n}(s_{1:m})\n",
      "# This is the density that we are targeting at time n:\n",
      "def SMC_log_target_density(sigma,mu,kap,s_0,path):\n",
      "    return np.log(np.power(np.abs(np.sum(f(path))),kap)) + log_path_density(sigma,mu,s_0,path)\n",
      "np.vectorize(SMC_log_target_density)\n",
      "\n",
      "\"\"\"\n",
      "\n",
      "# Symmetric random walk Metropolis-Hastings kernel:\n",
      "# (No new array created)\n",
      "def propagate(original,proposed,n):\n",
      "    proposed = norm.rvs(loc=original,scale=1.0) \n",
      "    a = np.power(np.absolute(np.sum(f(proposed))/np.sum(f(original))),kappa_tilde[n])\n",
      "    b = np.exp(log_path_density(sigma,mu,S_0,proposed)-log_path_density(sigma,mu,S_0,original))\n",
      "    MH_ratio = a*b\n",
      "    acceptance_probability = 1.0\n",
      "    if(MH_ratio<1.0):\n",
      "        acceptance_probability = MH_ratio\n",
      "    u = uniform.rvs(loc=0.0,scale=1.0,size=1)\n",
      "    if(u<acceptance_probability):\n",
      "        original = proposed\n",
      "    return original"
     ],
     "language": "python",
     "metadata": {},
     "outputs": [],
     "prompt_number": 9
    },
    {
     "cell_type": "code",
     "collapsed": false,
     "input": [
      "# Defining the SMC sampler function:\n",
      "# (using multinomial resampling)\n",
      "\n",
      "def SMC_sampler(m,k,S_0,sigma,mu,M,c_SIR,c_SMC_sampler,kappa,kappa_tilde):\n",
      "    \n",
      "    m = np.int(m)\n",
      "    \n",
      "    # First run SIR with M particles:\n",
      "    run_SIR = SIR(m,k,S_0,sigma,mu,M,c_SIR,kappa)\n",
      "    S, weights, SIR_normalizing_constant = run_SIR[0], run_SIR[1], run_SIR[2]\n",
      "    \n",
      "    # Next define some necessary things:\n",
      "    cut_off, normalizing_constant = c_SMC_sampler*M, SIR_normalizing_constant \n",
      "    incremental_weights, proposed = np.zeros(M), np.zeros(M)\n",
      "    p = np.size(kappa_tilde)-1                                            \n",
      "    # ('proposed' is a dummy variable defined so that we don't need to define \n",
      "    #   a new array everytime we propagate rows of S)\n",
      "    \n",
      "    for n in np.add(1,range(p)):                                              # n = 1, 2, ..., p\n",
      "        \n",
      "        # Propagating and computing incremental weights:\n",
      "        # (hopefully we shall later be able to do without the loop over i)\n",
      "        # incremental_weights = np.power(np.absolute(np.sum(f(S),axis=1)),kappa_tilde[n]-kappa_tilde[n-1])\n",
      "        # (the above line calculates the incremental weights, but how to propagate without the loop?)\n",
      "        for i in range(M):                                                              \n",
      "            incremental_weights[i] = np.power(np.absolute(np.sum(f(S[i,:]))),kappa_tilde[n]-kappa_tilde[n-1])\n",
      "            S[i,:] = propagate(S[i,:],proposed,n)\n",
      "        \n",
      "        weights *= incremental_weights\n",
      "        normalizing_constant *= np.sum(weights) \n",
      "        weights /= np.sum(weights)\n",
      "        # Adaptive resampling:\n",
      "        ESS = 1/np.sum(weights**2)\n",
      "        if(ESS<cut_off):\n",
      "            S = S[np.random.choice(a=range(M),size=M,p=weights),:]\n",
      "            weights = [1/M]*M \n",
      "        \n",
      "    return normalizing_constant "
     ],
     "language": "python",
     "metadata": {},
     "outputs": [],
     "prompt_number": 10
    },
    {
     "cell_type": "markdown",
     "metadata": {},
     "source": [
      "##### Checking the SMC sampler:"
     ]
    },
    {
     "cell_type": "code",
     "collapsed": false,
     "input": [
      "# Naive Monte Carlo (to compare with SMC sampler):\n",
      "\n",
      "def naive_MC(n,k,S_0,sigma,mu,M):\n",
      "    price, S = np.zeros(M), [S_0]*M\n",
      "    mean, sd = (mu-0.5*sigma**2)*k/360.0, sigma*np.sqrt(k/360.0)\n",
      "    for i in range(n):                                                       # i = 1, 2, ..., m\n",
      "        S = np.add(mean,S+sd*norm.rvs(0,1,M))\n",
      "        price += f(S)\n",
      "    return np.mean(np.absolute(price))"
     ],
     "language": "python",
     "metadata": {},
     "outputs": [],
     "prompt_number": 11
    },
    {
     "cell_type": "code",
     "collapsed": false,
     "input": [
      "m, k = 10, 30\n",
      "c_SIR, c_SMC_sampler = 0.5, 0.5\n",
      "gamma_L, gamma_G = 10, 10\n",
      "\n",
      "naive_MC_price_fixed_t = np.zeros(m)\n",
      "SMC_sampler_price_fixed_t = np.zeros(m)\n",
      "kappa_tilde = np.linspace(start=0.5,stop=1.0,num=p)\n",
      "\n",
      "for t in np.add(1,range(m)):                              # t = 1, 2, ..., m\n",
      "    kappa = np.linspace(start=0.0,stop=0.5,num=t)\n",
      "    naive_MC_price_fixed_t[t-1] = naive_MC(t,k,S_0,sigma,mu,10**4)\n",
      "    SMC_sampler_price_fixed_t[t-1] = SMC_sampler(t,k,S_0,sigma,mu,10**4,c_SIR,c_SMC_sampler,kappa,kappa_tilde)\n",
      "    \n",
      "plt.figure()\n",
      "plt.plot(np.add(1,range(m)),naive_MC_price_fixed_t,\"r*\",np.add(1,range(m)),SMC_sampler_price_fixed_t,\"b-\")\n",
      "plt.title(\"Price for fixed stopping time\")\n",
      "plt.xlim([0,m+1])\n",
      "plt.show()"
     ],
     "language": "python",
     "metadata": {},
     "outputs": [
      {
       "metadata": {},
       "output_type": "display_data",
       "png": "[encoded data removed]",
       "text": [
        "<matplotlib.figure.Figure at 0xa3cfc88>"
       ]
      }
     ],
     "prompt_number": 12
    },
    {
     "cell_type": "markdown",
     "metadata": {},
     "source": [
      "* So SMC sampler is working okay."
     ]
    },
    {
     "cell_type": "markdown",
     "metadata": {},
     "source": [
      "### Computing TARN price:"
     ]
    },
    {
     "cell_type": "code",
     "collapsed": false,
     "input": [
      "# This is to merge the above and compute the TARN price:\n",
      "# (still using 'blind' SMC)\n",
      "\n",
      "kappa_tilde = np.linspace(start=0.5,stop=1.0,num=p)\n",
      "\n",
      "def SMC_TARN(m,k,S_0,sigma,mu,M,c_SIR,c_SMC_sampler,c_SMC_survival,gamma_L,gamma_G,p):\n",
      "    \n",
      "    TARN_price_SMC = 0\n",
      "    m = np.int(m)\n",
      "    \n",
      "    for t in np.add(1,range(m)):                              # t = 1, 2, ..., m    \n",
      "        kappa = np.linspace(start=0.0,stop=0.5,num=t)\n",
      "        survival_probability = SMC_survival_probability(t,m,k,S_0,sigma,mu,10**4,c_SMC_survival,gamma_L,gamma_G)\n",
      "        SMC_sampler_price = SMC(t,k,S_0,sigma,mu,10**3,c_SIR,c_SMC_sampler,kappa,kappa_tilde)\n",
      "        if(survival_probability*SMC_sampler_price>10**-3):\n",
      "            TARN_price_SMC += survival_probability*SMC(t,k,S_0,sigma,mu,10**4,c_SIR,c_SMC_sampler,kappa,kappa_tilde)\n",
      "        \n",
      "    return TARN_price_SMC"
     ],
     "language": "python",
     "metadata": {},
     "outputs": [],
     "prompt_number": 13
    },
    {
     "cell_type": "markdown",
     "metadata": {},
     "source": [
      "* This estimate is incorrect.\n",
      "* The problem is that we need the correct distribution of $(S_{1:m}|\\tau = t)$ in order to compute $\\mathbb{E} \\left [ \\sum_{i=1}^{\\tau} f(S_{i}) | \\tau = t \\right ]$\n",
      "* This is not easy. \n",
      "* The survival probability is correct."
     ]
    },
    {
     "cell_type": "code",
     "collapsed": false,
     "input": [],
     "language": "python",
     "metadata": {},
     "outputs": []
    }
   ],
   "metadata": {}
  }
 ]
}