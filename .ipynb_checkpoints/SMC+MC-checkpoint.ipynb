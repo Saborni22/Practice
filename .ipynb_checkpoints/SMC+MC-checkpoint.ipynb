{
 "metadata": {
  "name": "",
  "signature": "sha256:548b29f195c2b50fb1fa3633202178cc9c8d3635b3048ad0b692aaafdd45517d"
 },
 "nbformat": 3,
 "nbformat_minor": 0,
 "worksheets": []
}